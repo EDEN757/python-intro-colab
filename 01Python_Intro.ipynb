{
  "cells": [
    {
      "cell_type": "markdown",
      "metadata": {
        "colab_type": "text",
        "id": "view-in-github"
      },
      "source": [
        "<a href=\"https://colab.research.google.com/github/peterhgruber/python-intro-colab/blob/main/01Python_intro.ipynb\" target=\"_parent\"><img src=\"https://colab.research.google.com/assets/colab-badge.svg\" alt=\"Open In Colab\"/></a>"
      ]
    },
    {
      "cell_type": "markdown",
      "metadata": {},
      "source": [
        "# Introduction to Python\n",
        "## 01 Main concepts of Python\n",
        "Peter Gruber (peter.gruber@usi.ch), 2024-04-01\n",
        "\n",
        "* Rationalise concepts from bootcamp introduction"
      ]
    },
    {
      "cell_type": "markdown",
      "metadata": {},
      "source": [
        "## 1 Variables\n",
        "\n",
        "* Create variables implicitly (=by declaring them)\n",
        "* Use `=` to assign a value to a variable\n",
        "    * ... and `==` to check for equality\n",
        "* To get the value, type variable or `print()`\n",
        "* Names are case-sensitive"
      ]
    },
    {
      "cell_type": "code",
      "execution_count": null,
      "metadata": {},
      "outputs": [
        {
          "data": {
            "text/plain": [
              "1"
            ]
          },
          "metadata": {},
          "output_type": "display_data"
        }
      ],
      "source": [
        "a = 1\n",
        "a"
      ]
    },
    {
      "cell_type": "code",
      "execution_count": null,
      "metadata": {},
      "outputs": [
        {
          "ename": "NameError",
          "evalue": "name 'A' is not defined",
          "output_type": "error",
          "traceback": [
            "\u001b[0;31m---------------------------------------------------------------------------\u001b[0m\n",
            "\u001b[0;31mNameError\u001b[0m                                 Traceback (most recent call last)\n",
            "Cell \u001b[0;32mIn[3], line 1\u001b[0m\n",
            "\u001b[0;32m----> 1\u001b[0m \u001b[43mA\u001b[49m\n",
            "\n",
            "\u001b[0;31mNameError\u001b[0m: name 'A' is not defined"
          ]
        }
      ],
      "source": [
        "A"
      ]
    },
    {
      "cell_type": "markdown",
      "metadata": {},
      "source": [
        "### Jupyter Line Magic\n",
        "* Commands start with `%`\n",
        "* Extends Python functionality\n",
        "* See here: https://ipython.readthedocs.io/en/stable/interactive/magics.html"
      ]
    },
    {
      "cell_type": "code",
      "execution_count": null,
      "metadata": {},
      "outputs": [
        {
          "name": "stdout",
          "output_type": "stream",
          "text": [
            "a\t \n"
          ]
        }
      ],
      "source": [
        "%who"
      ]
    },
    {
      "cell_type": "code",
      "execution_count": null,
      "metadata": {},
      "outputs": [
        {
          "name": "stdout",
          "output_type": "stream",
          "text": [
            "Variable   Type    Data/Info\n",
            "----------------------------\n",
            "a          int     1\n"
          ]
        }
      ],
      "source": [
        "%whos"
      ]
    },
    {
      "cell_type": "markdown",
      "metadata": {},
      "source": [
        "## 2 Operators"
      ]
    },
    {
      "cell_type": "markdown",
      "metadata": {},
      "source": [
        "| Type  | Operators |\n",
        "|-------|-----------|\n",
        "| Arithmetic | `+`, `-`, `*`, `/`, `//`, `%`, `**` |\n",
        "| Comparison | `==`, `!=`, `<`, `>`, `<=`, `>=` |\n",
        "| Logical | `and`, `or`, `not` |\n",
        "| Assignment | `=`, `+=`, `-=`, `*=`, `/=`, `//=`, `%=`, `**=`,|\n",
        "| Membership | `in`, `not in` |\n",
        "| Identity | `is`, `is not` |"
      ]
    },
    {
      "cell_type": "markdown",
      "metadata": {},
      "source": [
        "#### Arithmetic"
      ]
    },
    {
      "cell_type": "code",
      "execution_count": null,
      "metadata": {},
      "outputs": [
        {
          "name": "stdout",
          "output_type": "stream",
          "text": [
            "5 + 3   = 8\n",
            "5 - 3   = 2\n",
            "5 * 3   = 15\n",
            "5 / 3   = 1.6666666666666667\n",
            "5 ** 3  = 125\n",
            "5**(1/2)= 2.23606797749979\n",
            "5 // 3  = 1\n",
            "5 % 3   = 2\n"
          ]
        }
      ],
      "source": [
        "print(\"5 + 3   =\", 5 + 3)\n",
        "print(\"5 - 3   =\", 5 - 3)\n",
        "print(\"5 * 3   =\", 5 * 3)\n",
        "print(\"5 / 3   =\", 5 / 3)\n",
        "print(\"5 ** 3  =\", 5 ** 3)            # Power\n",
        "print(\"5**(1/2)=\", 5 ** (1/2))        # Square root = power 1/2\n",
        "print(\"5 // 3  =\", 5 // 3)            # Integer part of a division\n",
        "print(\"5 % 3   =\", 5 % 3)             # Remainder of a division"
      ]
    },
    {
      "cell_type": "markdown",
      "metadata": {},
      "source": [
        "#### Comparison\n",
        "* Use `==` to check for equality\n",
        "* Ordering of `<=` and `>=` like in spoken language (\"smaller or equal\")"
      ]
    },
    {
      "cell_type": "code",
      "execution_count": null,
      "metadata": {},
      "outputs": [
        {
          "name": "stdout",
          "output_type": "stream",
          "text": [
            "5 == 3 : False\n",
            "5 != 3 : True\n",
            "5 < 3  : False\n",
            "5 > 3  : True\n",
            "5 <= 3 : False\n",
            "5 >= 3 : True\n"
          ]
        }
      ],
      "source": [
        "print(\"5 == 3 :\", 5 == 3)\n",
        "print(\"5 != 3 :\", 5 != 3)\n",
        "print(\"5 < 3  :\", 5 < 3)\n",
        "print(\"5 > 3  :\", 5 > 3)\n",
        "print(\"5 <= 3 :\", 5 <= 3)\n",
        "print(\"5 >= 3 :\", 5 >= 3)"
      ]
    },
    {
      "cell_type": "markdown",
      "metadata": {},
      "source": [
        "#### Logical"
      ]
    },
    {
      "cell_type": "code",
      "execution_count": null,
      "metadata": {},
      "outputs": [
        {
          "name": "stdout",
          "output_type": "stream",
          "text": [
            "True and False: False\n",
            "True or False : True\n",
            "not True      : False\n"
          ]
        }
      ],
      "source": [
        "print(\"True and False:\", True and False)\n",
        "print(\"True or False :\", True or False)\n",
        "print(\"not True      :\", not True)"
      ]
    },
    {
      "cell_type": "markdown",
      "metadata": {},
      "source": [
        "#### Assignment\n",
        "* Instead of `a = a+1` write `a += 1`"
      ]
    },
    {
      "cell_type": "code",
      "execution_count": null,
      "metadata": {},
      "outputs": [
        {
          "name": "stdout",
          "output_type": "stream",
          "text": [
            "2\n"
          ]
        }
      ],
      "source": [
        "a = 1\n",
        "a += 1\n",
        "print(a)"
      ]
    },
    {
      "cell_type": "markdown",
      "metadata": {},
      "source": [
        "#### Membership"
      ]
    },
    {
      "cell_type": "code",
      "execution_count": null,
      "metadata": {},
      "outputs": [
        {
          "name": "stdout",
          "output_type": "stream",
          "text": [
            "Is 3 in range(1,5)?     -- True\n",
            "Is 5 not in range(1,5)? -- True\n"
          ]
        }
      ],
      "source": [
        "print(\"Is 3 in range(1,5)?     --\", 3 in range(1,5))\n",
        "print(\"Is 5 not in range(1,5)? --\", 5 not in range(1,5))"
      ]
    },
    {
      "cell_type": "markdown",
      "metadata": {},
      "source": [
        "#### Identity\n",
        "* `==` checks whether the **content** is equal\n",
        "* `is` checks whether two vairables are **identical** (= point to the same object in memory)"
      ]
    },
    {
      "cell_type": "code",
      "execution_count": null,
      "metadata": {},
      "outputs": [
        {
          "name": "stdout",
          "output_type": "stream",
          "text": [
            "a is b: True\n",
            "a is c: False\n"
          ]
        }
      ],
      "source": [
        "a = [1, 2, 3]\n",
        "b = a                 # <--- Do NOT use this! \n",
        "c = [1, 2, 3]\n",
        "print(\"a is b:\", a is b)\n",
        "print(\"a is c:\", a is c)"
      ]
    },
    {
      "cell_type": "markdown",
      "metadata": {},
      "source": [
        "#### ❗️Important\n",
        "* Assignment with `=` works differently in Python\n",
        "    * May lead to surprises\n",
        "* Use `.copy()` as alternative"
      ]
    },
    {
      "cell_type": "code",
      "execution_count": null,
      "metadata": {},
      "outputs": [
        {
          "name": "stdout",
          "output_type": "stream",
          "text": [
            "[1, 2, 3]\n",
            "[1, 2, 3]\n",
            "[1, 2, 3]\n"
          ]
        }
      ],
      "source": [
        "d = a.copy()       # <--- MUCH better!\n",
        "print(a)\n",
        "print(b)\n",
        "print(d)"
      ]
    },
    {
      "cell_type": "code",
      "execution_count": null,
      "metadata": {},
      "outputs": [
        {
          "name": "stdout",
          "output_type": "stream",
          "text": [
            "[1, 2, 3, 4]\n",
            "[1, 2, 3, 4]\n",
            "[1, 2, 3]\n"
          ]
        }
      ],
      "source": [
        "a.append(4)\n",
        "print(a)\n",
        "print(b)              # Would look differently in R, MATLAB\n",
        "print(d)"
      ]
    },
    {
      "cell_type": "markdown",
      "metadata": {},
      "source": [
        "## 3 Symbols: backets, dots\n",
        "* Every bracket has a specific meaning\n",
        "* Use `()` for all levels of algebraic brackets\n",
        "$$\\left\\{ \\left[ (x+y)^2+(x-y)^2 \\right] /(x-y) \\right\\}^2$$"
      ]
    },
    {
      "cell_type": "markdown",
      "metadata": {},
      "source": [
        "| Symbol | Usage  | Example |\n",
        "|--------|--------|---------|\n",
        "| `()`   | Arithmetic bracket, functions | `(3 + 4) * 2`, `abs(-3)` |\n",
        "| `[]`   | Access: index/slice lists, dicts, arrays, strings | `myList[0:3]`, `myDict['key']` |\n",
        "| `[]`   | Create: lists, arrays | `myList = [1, 2, 3]` |\n",
        "| `{}`   | Create: sets, dictionaries | `{1, 2, 3}`, `{\"a\": 1}` |\n",
        "| `{}`   | Format: f-strings | `print(f\"Two decimals: {pi:4.2f}\")` |\n",
        "| `;`   | Multiple commands in 1 line | `a=1; b=2; c=3` |\n",
        "| `.`    | Access: methods/attributes | `string.upper()` |\n"
      ]
    },
    {
      "cell_type": "markdown",
      "metadata": {},
      "source": [
        "## 4 Quotation marks\n",
        "* Should you use `\"` or `'`?\n",
        "    * Generally interchangeable\n",
        "    * For text (strings) often `\"`\n",
        "    * For *keys* often `'`\n",
        "    * For multi-line text with line breaks use `'''`"
      ]
    },
    {
      "cell_type": "code",
      "execution_count": null,
      "metadata": {},
      "outputs": [
        {
          "name": "stdout",
          "output_type": "stream",
          "text": [
            "The professor's assitant said that it didn't matter.\n",
            "The assistant said: \"It does not matter.\"\n",
            "The assistant said: \"It doesn't matter.\"\n"
          ]
        }
      ],
      "source": [
        "# Special case\n",
        "sentence_1 = \"The professor's assitant said that it didn't matter.\"\n",
        "print(sentence_1)\n",
        "\n",
        "sentence_2 = 'The assistant said: \"It does not matter.\"'\n",
        "print(sentence_2)\n",
        "\n",
        "# So what about both?\n",
        "sentence_3 = 'The assistant said: \"It doesn\\'t matter.\"'\n",
        "print(sentence_3)"
      ]
    },
    {
      "cell_type": "code",
      "execution_count": null,
      "metadata": {},
      "outputs": [
        {
          "name": "stdout",
          "output_type": "stream",
          "text": [
            "Python is a high-level, general-purpose programming language. \n",
            "Its design philosophy emphasizes code readability with the use \n",
            "of significant indentation. Python is dynamically typed and \n",
            "garbage-collected. It supports multiple programming paradigms, \n",
            "including structured (particularly procedural), object-oriented \n",
            "and functional programming. It is often described as a \"batteries \n",
            "included\" language due to its comprehensive standard library.\n"
          ]
        }
      ],
      "source": [
        "# https://en.wikipedia.org/wiki/Python_(programming_language)\n",
        "long_sentence = '''Python is a high-level, general-purpose programming language. \n",
        "Its design philosophy emphasizes code readability with the use \n",
        "of significant indentation. Python is dynamically typed and \n",
        "garbage-collected. It supports multiple programming paradigms, \n",
        "including structured (particularly procedural), object-oriented \n",
        "and functional programming. It is often described as a \"batteries \n",
        "included\" language due to its comprehensive standard library.'''\n",
        "print(long_sentence)"
      ]
    },
    {
      "cell_type": "markdown",
      "metadata": {},
      "source": [
        "## 5 Indentation\n",
        "Determine the scope of code blocks in\n",
        "+ Function definition `def`\n",
        "+ Conditionals `if`\n",
        "+ Loops `for`, `while`\n",
        "+ Context `with`\n",
        "+ Special cases `try`, `except`\n",
        "\n",
        "Benefits:\n",
        "* Readability ... especially for nested structures\n",
        "* No need for punctuation like\n",
        "    * R, C++, Javascript using `{` and `}` \n",
        "    * MATLAB using `end`\n",
        "    * Pascal using `begin` ... `end`"
      ]
    },
    {
      "cell_type": "code",
      "execution_count": null,
      "metadata": {},
      "outputs": [
        {
          "name": "stdout",
          "output_type": "stream",
          "text": [
            "Yes!\n",
            "Double Yes!\n"
          ]
        }
      ],
      "source": [
        "a = 1\n",
        "b = 2\n",
        "if a==1:\n",
        "    print(\"Yes!\")\n",
        "    if b==2:\n",
        "        print(\"Double Yes!\")"
      ]
    },
    {
      "cell_type": "markdown",
      "metadata": {},
      "source": [
        "### Does the number of spaces count or not?\n",
        "* **NOT** in equations or assignments, so ...\n",
        "    * Improve readability\n",
        "    * Create *expression groups*\n",
        "    * Align expressions"
      ]
    },
    {
      "cell_type": "code",
      "execution_count": null,
      "metadata": {},
      "outputs": [
        {
          "name": "stdout",
          "output_type": "stream",
          "text": [
            "[1, 2, 3, 4, 5]\n"
          ]
        }
      ],
      "source": [
        "# here it does not count\n",
        "a = [1,2, 3,  4,   5]\n",
        "print(a)"
      ]
    },
    {
      "cell_type": "code",
      "execution_count": null,
      "metadata": {},
      "outputs": [
        {
          "name": "stdout",
          "output_type": "stream",
          "text": [
            "16\n",
            "16\n"
          ]
        }
      ],
      "source": [
        "# Create better readable expressions\n",
        "x = 1; y = 2; z=3\n",
        "\n",
        "calc_1 = ((x-y)**2*(x+z)**2)\n",
        "print(calc_1)\n",
        "\n",
        "calc_2 = ( (x-y)**2 * (x+z)**2 )\n",
        "print( calc_2 )"
      ]
    },
    {
      "cell_type": "code",
      "execution_count": null,
      "metadata": {},
      "outputs": [],
      "source": [
        "# Align expressions (example: options)\n",
        "r     = 0.04\n",
        "tau   = 0.5\n",
        "sigma = 0.1"
      ]
    },
    {
      "cell_type": "markdown",
      "metadata": {},
      "source": [
        "### Does the number of spaces count or not?\n",
        "* **YES** with code indenting  $\\rightarrow$ follow standards"
      ]
    },
    {
      "cell_type": "code",
      "execution_count": null,
      "metadata": {},
      "outputs": [
        {
          "ename": "IndentationError",
          "evalue": "unexpected indent (3025557004.py, line 5)",
          "output_type": "error",
          "traceback": [
            "\u001b[0;36m  Cell \u001b[0;32mIn[92], line 5\u001b[0;36m\u001b[0m\n",
            "\u001b[0;31m    y=2\u001b[0m\n",
            "\u001b[0m    ^\u001b[0m\n",
            "\u001b[0;31mIndentationError\u001b[0m\u001b[0;31m:\u001b[0m unexpected indent\n"
          ]
        }
      ],
      "source": [
        "# Unequal indenting is a problem\n",
        "a = 0\n",
        "if a==1:\n",
        "    print(\"yes!\")\n",
        "     y=2"
      ]
    },
    {
      "cell_type": "code",
      "execution_count": null,
      "metadata": {},
      "outputs": [],
      "source": [
        "# Very light indenting (only 1 space) is not\n",
        "a = 0\n",
        "if a==1:\n",
        " print(\"yes!\")\n",
        " y=2"
      ]
    },
    {
      "cell_type": "markdown",
      "metadata": {},
      "source": [
        "## 6 Naming\n",
        "**Guidelines**:\n",
        "- Do not use Python reserved keywords.\n",
        "    - If not sure, use `my_` prefix. *Example:* `my_date`\n",
        "- Keep names descriptive but concise.\n",
        "- Start variables and functions with lowercase letters"
      ]
    },
    {
      "cell_type": "markdown",
      "metadata": {},
      "source": [
        "| Type | Convention | Example |\n",
        "|------|------------|---------|\n",
        "| Variables | `snake_case lowercase first` | `my_variable = 10` |\n",
        "| Functions | `snake_case lowercase first` | `def my_function():` |\n",
        "| Classes | `CamelCase uppercase first` | `class MyClass:` |\n",
        "| Modules & Packages | `snake_case lowercase first` | `import my_module` |"
      ]
    }
  ],
  "metadata": {
    "colab": {
      "authorship_tag": "ABX9TyMVeYvE9IaVvZ120+xVF/vP",
      "include_colab_link": true,
      "provenance": []
    },
    "kernelspec": {
      "display_name": "Python 3",
      "name": "python3"
    },
    "language_info": {
      "name": "python"
    }
  },
  "nbformat": 4,
  "nbformat_minor": 0
}

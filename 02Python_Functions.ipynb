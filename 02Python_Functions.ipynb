{
 "cells": [
  {
   "cell_type": "markdown",
   "id": "565868a5",
   "metadata": {},
   "source": [
    "<a target=\"_blank\" href=\"https://colab.research.google.com/github/peterhgruber/python-intro-colab/blob/main/02Python_Functions.ipynb\">\n",
    "<img src=\"https://colab.research.google.com/assets/colab-badge.svg\" alt=\"Open In Colab\"/></a>"
   ]
  },
  {
   "cell_type": "markdown",
   "id": "906395dc-5bd1-477f-af29-72c03d8e239e",
   "metadata": {},
   "source": [
    "# Introduction to Python\n",
    "### Main concepts of Python – Part 02\n",
    "Peter Gruber (peter.gruber@usi.ch), 2024-04-01\n",
    "\n",
    "* Bult-in functions\n",
    "* Create your own function\n",
    "    * Simple lambda function\n",
    "    * Full function with `def`\n",
    "    * Default values and arguments\n",
    "    * Standard Google documentation structure"
   ]
  },
  {
   "cell_type": "markdown",
   "id": "9ff92329",
   "metadata": {},
   "source": [
    "# 1 Built-in functions\n",
    "- Functions in core Python that do not require a package"
   ]
  },
  {
   "cell_type": "code",
   "execution_count": 1,
   "id": "26644cd9-6523-4387-8e8c-a4eb37349054",
   "metadata": {},
   "outputs": [
    {
     "name": "stdout",
     "output_type": "stream",
     "text": [
      "Hello world!\n"
     ]
    }
   ],
   "source": [
    "print(\"Hello world!\")"
   ]
  },
  {
   "cell_type": "code",
   "execution_count": 2,
   "id": "d2ec5c10-bba2-4cda-a3e6-c7fd6e635546",
   "metadata": {},
   "outputs": [
    {
     "data": {
      "text/plain": [
       "12"
      ]
     },
     "execution_count": 2,
     "metadata": {},
     "output_type": "execute_result"
    }
   ],
   "source": [
    "len(\"Hello world!\")"
   ]
  },
  {
   "cell_type": "code",
   "execution_count": 3,
   "id": "78d44366-4170-4f15-9326-db1b6d3bcdc1",
   "metadata": {},
   "outputs": [
    {
     "data": {
      "text/plain": [
       "3"
      ]
     },
     "execution_count": 3,
     "metadata": {},
     "output_type": "execute_result"
    }
   ],
   "source": [
    "abs(-3)"
   ]
  },
  {
   "cell_type": "markdown",
   "id": "3d2575b2-23f2-4542-a25b-3fb2f1a2618d",
   "metadata": {},
   "source": [
    "### 👍 Using the `TAB` key\n",
    "* Exercise: round `a` to 3 digits\n",
    "* To find the command, type `r` and then the `TAB` key"
   ]
  },
  {
   "cell_type": "code",
   "execution_count": 7,
   "id": "a51c9622-4958-48d4-a3f2-12d8779db52c",
   "metadata": {},
   "outputs": [
    {
     "data": {
      "text/plain": [
       "120.0"
      ]
     },
     "execution_count": 7,
     "metadata": {},
     "output_type": "execute_result"
    }
   ],
   "source": [
    "a = 123.4567\n",
    "round(a,-1)"
   ]
  },
  {
   "cell_type": "markdown",
   "id": "d508fb5e-7d2c-4649-be7d-63be4d3dded3",
   "metadata": {},
   "source": [
    "### Using `help`\n",
    "* Exercise: find out more about the new function\n",
    "* Use `help( <name_of_function> )`"
   ]
  },
  {
   "cell_type": "code",
   "execution_count": 5,
   "id": "bb6ff12e-4967-48a9-9fb5-5bbbaed16d9e",
   "metadata": {},
   "outputs": [
    {
     "name": "stdout",
     "output_type": "stream",
     "text": [
      "Help on built-in function round in module builtins:\n",
      "\n",
      "round(number, ndigits=None)\n",
      "    Round a number to a given precision in decimal digits.\n",
      "    \n",
      "    The return value is an integer if ndigits is omitted or None.  Otherwise\n",
      "    the return value has the same type as the number.  ndigits may be negative.\n",
      "\n"
     ]
    }
   ],
   "source": [
    "# insert help request here\n",
    "help(round)"
   ]
  },
  {
   "cell_type": "markdown",
   "id": "c49d5eb5-46ed-4a74-b970-5b7825f3e69c",
   "metadata": {},
   "source": [
    "### *Functions are not *\"vector compatible\"* in Python\n",
    "* R expression `abs(c(-1,-2,-3))` has no direct equivalent in Python\n",
    "* Need list expression $\\rightarrow$ next chapter in detail"
   ]
  },
  {
   "cell_type": "code",
   "execution_count": 8,
   "id": "e353761d-4e06-45e6-aeb8-8693e2a577d3",
   "metadata": {
    "collapsed": true,
    "jupyter": {
     "outputs_hidden": true
    },
    "tags": []
   },
   "outputs": [
    {
     "ename": "TypeError",
     "evalue": "bad operand type for abs(): 'list'",
     "output_type": "error",
     "traceback": [
      "\u001b[0;31m---------------------------------------------------------------------------\u001b[0m",
      "\u001b[0;31mTypeError\u001b[0m                                 Traceback (most recent call last)",
      "Cell \u001b[0;32mIn[8], line 2\u001b[0m\n\u001b[1;32m      1\u001b[0m a_list \u001b[38;5;241m=\u001b[39m [\u001b[38;5;241m-\u001b[39m\u001b[38;5;241m2\u001b[39m, \u001b[38;5;241m-\u001b[39m\u001b[38;5;241m1\u001b[39m, \u001b[38;5;241m0\u001b[39m, \u001b[38;5;241m1\u001b[39m, \u001b[38;5;241m2\u001b[39m]\n\u001b[0;32m----> 2\u001b[0m \u001b[38;5;28;43mabs\u001b[39;49m\u001b[43m(\u001b[49m\u001b[43ma_list\u001b[49m\u001b[43m)\u001b[49m\n",
      "\u001b[0;31mTypeError\u001b[0m: bad operand type for abs(): 'list'"
     ]
    }
   ],
   "source": [
    "a_list = [-2, -1, 0, 1, 2]\n",
    "abs(a_list)"
   ]
  },
  {
   "cell_type": "code",
   "execution_count": 9,
   "id": "df772203-cd40-4990-99a0-fabd41469656",
   "metadata": {},
   "outputs": [
    {
     "data": {
      "text/plain": [
       "[2, 1, 0, 1, 2]"
      ]
     },
     "execution_count": 9,
     "metadata": {},
     "output_type": "execute_result"
    }
   ],
   "source": [
    "[abs(a) for a in a_list]"
   ]
  },
  {
   "cell_type": "markdown",
   "id": "cf9f17ad",
   "metadata": {},
   "source": [
    "## 2 Create a simple function using `lambda`\n",
    "\n",
    "- `lambda` functions: define functions quickly in line functions\n",
    "    - So-called anonymous function\n",
    "    + Can have multiple input arguments ...\n",
    "    * But only one expression (= 1 line of code)\n",
    "    + Also used in optimization to express constraints"
   ]
  },
  {
   "cell_type": "markdown",
   "id": "aa20d302",
   "metadata": {},
   "source": [
    "### Very simple Lambda function"
   ]
  },
  {
   "cell_type": "code",
   "execution_count": 13,
   "id": "0899cf36",
   "metadata": {},
   "outputs": [
    {
     "data": {
      "text/plain": [
       "3"
      ]
     },
     "execution_count": 13,
     "metadata": {},
     "output_type": "execute_result"
    }
   ],
   "source": [
    "f = lambda x: x**2 - x +1\n",
    "f(2)"
   ]
  },
  {
   "cell_type": "code",
   "execution_count": 14,
   "id": "e12f6cc9-9913-43ce-bbfe-99cce21ba1fb",
   "metadata": {},
   "outputs": [
    {
     "data": {
      "text/plain": [
       "4"
      ]
     },
     "execution_count": 14,
     "metadata": {},
     "output_type": "execute_result"
    }
   ],
   "source": [
    "g = lambda x,y: (x+y)**2\n",
    "g(-1,-1)"
   ]
  },
  {
   "cell_type": "code",
   "execution_count": 15,
   "id": "16f5c20d-333a-4136-bec9-9614a7ccd0ba",
   "metadata": {},
   "outputs": [
    {
     "data": {
      "text/plain": [
       "3"
      ]
     },
     "execution_count": 15,
     "metadata": {},
     "output_type": "execute_result"
    }
   ],
   "source": [
    "# If you don't like lambda, this is the same\n",
    "def f(x):\n",
    "    return x**2 - x +1\n",
    "f(2)"
   ]
  },
  {
   "cell_type": "markdown",
   "id": "3d12f613",
   "metadata": {},
   "source": [
    "### Price of a Zero Coupon Bond\n",
    "\n",
    "The price of a zero-coupon bond (ZCB) is obtained from the present value (PV):\n",
    "\n",
    "$$PV = \\frac{FV}{(1 + r)^n}$$\n",
    "\n",
    "Where:\n",
    "- $PV$ is the present value (price) of the bond.\n",
    "- $FV$ is the face value of the bond.\n",
    "- $r$ is the (current) discount rate per period.\n",
    "- $n$ is the number of periods until maturity.\n"
   ]
  },
  {
   "cell_type": "code",
   "execution_count": 16,
   "id": "1aecd6b5-7873-4017-a080-01a2654a2fe9",
   "metadata": {},
   "outputs": [
    {
     "data": {
      "text/plain": [
       "783.5261664684588"
      ]
     },
     "execution_count": 16,
     "metadata": {},
     "output_type": "execute_result"
    }
   ],
   "source": [
    "PV = lambda FV, r, n: FV / (1 + r)**n\n",
    "\n",
    "facevalue = 1000   # Face value\n",
    "rate      = 0.05    # 5% discount rate\n",
    "duration  = 5       # 5-year bond\n",
    "\n",
    "PV(r= rate, n=duration, FV=facevalue)"
   ]
  },
  {
   "cell_type": "code",
   "execution_count": 17,
   "id": "8e0b0721-703c-421d-b759-7a848ae9e267",
   "metadata": {},
   "outputs": [
    {
     "data": {
      "text/plain": [
       "783.5261664684588"
      ]
     },
     "execution_count": 17,
     "metadata": {},
     "output_type": "execute_result"
    }
   ],
   "source": [
    "# If you don't like lambda, this is the same\n",
    "def PV(FV, r, n): \n",
    "    return FV / (1 + r)**n\n",
    "\n",
    "PV(facevalue, rate, duration)"
   ]
  },
  {
   "cell_type": "markdown",
   "id": "ef46fedd",
   "metadata": {
    "tags": []
   },
   "source": [
    "## 2 Call by order or name\n",
    "\n",
    "- Calling by **order**:  provide the arguments based on their position in the function definition.\n",
    "- Calling by **name**: specifically mention the parameter names, making your function calls more explicit and often easier to read\n",
    "\n",
    "➡️ Works for both `lambda` and `def`"
   ]
  },
  {
   "cell_type": "code",
   "execution_count": 19,
   "id": "d9bdf20a",
   "metadata": {},
   "outputs": [
    {
     "data": {
      "text/plain": [
       "78.35261664684589"
      ]
     },
     "execution_count": 19,
     "metadata": {},
     "output_type": "execute_result"
    }
   ],
   "source": [
    "# call by order\n",
    "PV(facevalue, rate, duration)"
   ]
  },
  {
   "cell_type": "code",
   "execution_count": 20,
   "id": "ed3b3fcb-889d-44d5-b12d-1e2c11000ef6",
   "metadata": {},
   "outputs": [
    {
     "data": {
      "text/plain": [
       "78.35261664684589"
      ]
     },
     "execution_count": 20,
     "metadata": {},
     "output_type": "execute_result"
    }
   ],
   "source": [
    "# call by name\n",
    "PV(FV=facevalue, r=rate, n=duration)"
   ]
  },
  {
   "cell_type": "code",
   "execution_count": 21,
   "id": "b3288361-ceda-403c-a575-ee39bf91c3cb",
   "metadata": {},
   "outputs": [
    {
     "data": {
      "text/plain": [
       "78.35261664684589"
      ]
     },
     "execution_count": 21,
     "metadata": {},
     "output_type": "execute_result"
    }
   ],
   "source": [
    "# possibility to change the order (good idea?)\n",
    "PV(r=rate, n=duration, FV=facevalue)"
   ]
  },
  {
   "cell_type": "markdown",
   "id": "41f86100-b4b2-43a0-92c8-a0cdb5d628cd",
   "metadata": {},
   "source": [
    "## 2 More elaborate functions using `def`\n",
    "\n",
    "- `def` functions allow for ...\n",
    "    * Multiple lines\n",
    "    * Default arguments\n",
    "    * Documentation"
   ]
  },
  {
   "cell_type": "code",
   "execution_count": 22,
   "id": "0bd1952e",
   "metadata": {},
   "outputs": [],
   "source": [
    "# Many digits are unrealistic for a price --> round it\n",
    "def ZCP_price(FV, r, n):\n",
    "    PV = FV / (1 + r)**n\n",
    "    price = round(PV, 2)\n",
    "    return price"
   ]
  },
  {
   "cell_type": "code",
   "execution_count": 23,
   "id": "aae932be",
   "metadata": {},
   "outputs": [
    {
     "data": {
      "text/plain": [
       "783.53"
      ]
     },
     "execution_count": 23,
     "metadata": {},
     "output_type": "execute_result"
    }
   ],
   "source": [
    "facevalue = 1000   # Face value\n",
    "rate      = 0.05    # 5% discount rate\n",
    "duration  = 5       # 5-year bond\n",
    "\n",
    "ZCP_price(facevalue, rate, duration)"
   ]
  },
  {
   "cell_type": "markdown",
   "id": "95b4f488-0489-4a2b-b0a4-6a01d587d9e5",
   "metadata": {},
   "source": [
    "### Default arguments\n",
    "* Can leave out commonly used arguments\n",
    "* *Example:* many bonds have a face value of 1000\n",
    "* Python technicality: must define default values in a row\n",
    "    * Assume 5% interest rate and 1 year as default"
   ]
  },
  {
   "cell_type": "code",
   "execution_count": 24,
   "id": "57cf1a06-f74e-4717-a0c8-7a58e52bd360",
   "metadata": {},
   "outputs": [],
   "source": [
    "# Define default face value of 1000\n",
    "def ZCP_price(FV=1000, r=0.05, n=1):\n",
    "    PV = FV / (1 + r)**n\n",
    "    price = round(PV, 2)\n",
    "    return price"
   ]
  },
  {
   "cell_type": "code",
   "execution_count": 26,
   "id": "4c8e92d9-8d92-46b3-9460-817aa47c38d8",
   "metadata": {},
   "outputs": [
    {
     "data": {
      "text/plain": [
       "78.35"
      ]
     },
     "execution_count": 26,
     "metadata": {},
     "output_type": "execute_result"
    }
   ],
   "source": [
    "# Without default value (still works)\n",
    "facevalue = 100\n",
    "ZCP_price(facevalue, rate, duration)"
   ]
  },
  {
   "cell_type": "code",
   "execution_count": 27,
   "id": "720c2999-4be6-4b69-838e-e92a54f29f79",
   "metadata": {},
   "outputs": [
    {
     "data": {
      "text/plain": [
       "0.01"
      ]
     },
     "execution_count": 27,
     "metadata": {},
     "output_type": "execute_result"
    }
   ],
   "source": [
    "# Using default value --> not as desired!\n",
    "ZCP_price(rate, duration)"
   ]
  },
  {
   "cell_type": "code",
   "execution_count": 28,
   "id": "f487cd23-b44c-452a-aa18-abe37f515688",
   "metadata": {},
   "outputs": [
    {
     "data": {
      "text/plain": [
       "783.53"
      ]
     },
     "execution_count": 28,
     "metadata": {},
     "output_type": "execute_result"
    }
   ],
   "source": [
    "# Using default value --> need to call by name!\n",
    "ZCP_price(r=rate, n=duration)"
   ]
  },
  {
   "cell_type": "markdown",
   "id": "a2acc1f5",
   "metadata": {},
   "source": [
    "#### Documentation\n"
   ]
  },
  {
   "cell_type": "code",
   "execution_count": 70,
   "id": "43a78c20",
   "metadata": {},
   "outputs": [],
   "source": [
    "def ZCP_price(FV=1000, r=0.05, n=1):\n",
    "    \"\"\"\n",
    "    Compute price of a zero-coupon bond.\n",
    "\n",
    "    This function calculates the price of a zero-coupon bond based on its\n",
    "    present value (PV). The price is rounded to 2 decimal places.\n",
    "\n",
    "    Args:\n",
    "        FV (float, optional): The face value of the bond. Defaults to 1000.\n",
    "        r (float, optional): The discount (yield) rate per period. Defaults to 5%.\n",
    "        n (int, optional): The number of periods until maturity. Defaults to 1.\n",
    "\n",
    "    Returns:\n",
    "        float: The price as rounded present value (PV) of the zero-coupon bond.\n",
    "\n",
    "    Examples:\n",
    "        >>> PV_zcb(1000, 0.05)\n",
    "        783.53\n",
    "\n",
    "        >>> PV_zcb(1000, 0.05, 3)\n",
    "        863.84\n",
    "    \"\"\"\n",
    "    \n",
    "    PV = FV / (1 + r)**n\n",
    "    price = round(PV, 2)\n",
    "    return price"
   ]
  }
 ],
 "metadata": {
  "kernelspec": {
   "display_name": "Python 3 (ipykernel)",
   "language": "python",
   "name": "python3"
  },
  "language_info": {
   "codemirror_mode": {
    "name": "ipython",
    "version": 3
   },
   "file_extension": ".py",
   "mimetype": "text/x-python",
   "name": "python",
   "nbconvert_exporter": "python",
   "pygments_lexer": "ipython3",
   "version": "3.11.5"
  }
 },
 "nbformat": 4,
 "nbformat_minor": 5
}

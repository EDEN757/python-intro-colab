{
  "cells": [
    {
      "cell_type": "markdown",
      "id": "22f282b7",
      "metadata": {
        "id": "22f282b7"
      },
      "source": [
        "<a target=\"_blank\" href=\"https://colab.research.google.com/github/peterhgruber/python-intro-colab/blob/main/03Python_Data.ipynb\">\n",
        "  <img src=\"https://colab.research.google.com/assets/colab-badge.svg\" alt=\"Open In Colab\"/>\n",
        "</a>"
      ]
    },
    {
      "cell_type": "markdown",
      "id": "1f0d16e0",
      "metadata": {
        "id": "1f0d16e0"
      },
      "source": [
        "# Introduction to Python\n",
        "### Main concepts of Python – Part 03\n",
        "Peter Gruber (peter.gruber@usi.ch), 2024-04-01"
      ]
    },
    {
      "cell_type": "markdown",
      "id": "d06204e0",
      "metadata": {
        "id": "d06204e0"
      },
      "source": [
        "## 0 Important disctinction\n",
        "* Data **type** = how one *individual* observation is stored\n",
        "    * bool\n",
        "    * int, float\n",
        "* Data **strcture** = how *multiple* observations are stored\n",
        "    * List\n",
        "    * Array\n",
        "    * Dataframe"
      ]
    },
    {
      "cell_type": "markdown",
      "id": "4726b96a",
      "metadata": {
        "id": "4726b96a"
      },
      "source": [
        "## 1 Data types"
      ]
    },
    {
      "cell_type": "markdown",
      "id": "cd75b863",
      "metadata": {
        "id": "cd75b863"
      },
      "source": [
        "### 1.1 Numeric types"
      ]
    },
    {
      "cell_type": "markdown",
      "id": "828137d3",
      "metadata": {
        "id": "828137d3"
      },
      "source": [
        "**Create the following variables**\n",
        "* `a` integer 5\n",
        "* `b` real 5"
      ]
    },
    {
      "cell_type": "code",
      "execution_count": null,
      "id": "eae2d061",
      "metadata": {
        "id": "eae2d061"
      },
      "outputs": [],
      "source": [
        "a = 5\n",
        "b = 5.7"
      ]
    },
    {
      "cell_type": "code",
      "execution_count": null,
      "id": "75f7b155",
      "metadata": {
        "id": "75f7b155"
      },
      "outputs": [],
      "source": [
        "print(type(a))\n",
        "print(type(b))"
      ]
    },
    {
      "cell_type": "markdown",
      "id": "70547ab6",
      "metadata": {
        "id": "70547ab6"
      },
      "source": [
        "#### 1.1.2 Convert numeric data types"
      ]
    },
    {
      "cell_type": "code",
      "execution_count": null,
      "id": "5dbfa842",
      "metadata": {
        "id": "5dbfa842"
      },
      "outputs": [],
      "source": [
        "# \"a\" is integer -> To float\n",
        "# Note that \"a1\" prints as 5.0\n",
        "a1 = float(a)\n",
        "print(a1, type(a1))"
      ]
    },
    {
      "cell_type": "code",
      "execution_count": null,
      "id": "f1346450-a85c-47b2-9258-54591f4d8f0b",
      "metadata": {
        "id": "f1346450-a85c-47b2-9258-54591f4d8f0b"
      },
      "outputs": [],
      "source": [
        "# \"b\" is a float -> To integer\n",
        "# Note that \"b1\" is truncated\n",
        "b1 = int(b)\n",
        "print(b1, type(b1))"
      ]
    },
    {
      "cell_type": "markdown",
      "id": "6f237a51",
      "metadata": {
        "id": "6f237a51"
      },
      "source": [
        "### 1.2 Boolean type"
      ]
    },
    {
      "cell_type": "code",
      "execution_count": null,
      "id": "cf76319d",
      "metadata": {
        "id": "cf76319d",
        "outputId": "da0b663c-fd63-4ed0-d376-4ef4458b4774"
      },
      "outputs": [
        {
          "name": "stdout",
          "output_type": "stream",
          "text": [
            "<class 'bool'>\n"
          ]
        }
      ],
      "source": [
        "c = True\n",
        "print(type(c))"
      ]
    },
    {
      "cell_type": "code",
      "execution_count": null,
      "id": "45bc1ab8",
      "metadata": {
        "id": "45bc1ab8",
        "outputId": "8835bff1-6505-4c9d-a7e3-a0f0c1465ae0"
      },
      "outputs": [
        {
          "name": "stdout",
          "output_type": "stream",
          "text": [
            "1 <class 'int'>\n"
          ]
        }
      ],
      "source": [
        "# \"c\" --> to integer\n",
        "# True = 1 and Flase = 0\n",
        "c1 = int(c)\n",
        "print(c1, type(c1))"
      ]
    },
    {
      "cell_type": "markdown",
      "id": "98ec37c3",
      "metadata": {
        "id": "98ec37c3"
      },
      "source": [
        "### 1.3 Really no more numeric data types?\n",
        "* See appendix for `complex`\n",
        "* Many other data types like date are part of modules"
      ]
    },
    {
      "cell_type": "markdown",
      "id": "c5f605a5",
      "metadata": {
        "id": "c5f605a5"
      },
      "source": [
        "## 2 Python data structures\n",
        "* Organize multiple observations in a single variable\n",
        "    * Structure vs. flexibility"
      ]
    },
    {
      "cell_type": "markdown",
      "id": "a4b69867",
      "metadata": {
        "id": "a4b69867"
      },
      "source": [
        "### 2.0 ❗️Python indexing\n",
        "* Python starts indexing at 0\n",
        "* Index ranges run to $n+1$\n",
        "\n",
        "**Example**\n",
        "* The first element is `0` in Python\n",
        "* The first three elements are `0:3` in Python"
      ]
    },
    {
      "cell_type": "markdown",
      "id": "e54681b8",
      "metadata": {
        "id": "e54681b8"
      },
      "source": [
        "### 2.1 Strings\n",
        "* Text contains multiple letters\n",
        "* A very simple data structure"
      ]
    },
    {
      "cell_type": "code",
      "execution_count": null,
      "id": "78ea0153",
      "metadata": {
        "id": "78ea0153"
      },
      "outputs": [],
      "source": [
        "myString = 'Hello world!'"
      ]
    },
    {
      "cell_type": "code",
      "execution_count": null,
      "id": "32bf7fc0",
      "metadata": {
        "id": "32bf7fc0"
      },
      "outputs": [],
      "source": [
        "print(type(myString))"
      ]
    },
    {
      "cell_type": "code",
      "execution_count": null,
      "id": "88518032",
      "metadata": {
        "id": "88518032"
      },
      "outputs": [],
      "source": [
        "# Access individual characters\n",
        "# Python starts indexing at 0\n",
        "print(myString[0])"
      ]
    },
    {
      "cell_type": "markdown",
      "id": "3fe905e4",
      "metadata": {
        "id": "3fe905e4"
      },
      "source": [
        "#### 2.1.1 Subsetting with the `:` operator\n",
        "* Access a range of elements\n",
        "* Couting starts at zero\n",
        "* The first index is inclusive and the second index is exclusive\n",
        "\n",
        "**Exercise**\n",
        "* Print the word \"world\" in `myString` (chaters 7 to 11)"
      ]
    },
    {
      "cell_type": "code",
      "execution_count": null,
      "id": "293abf17",
      "metadata": {
        "id": "293abf17"
      },
      "outputs": [],
      "source": [
        "# Python code goes here"
      ]
    },
    {
      "cell_type": "markdown",
      "id": "6a7f8ef6",
      "metadata": {
        "id": "6a7f8ef6"
      },
      "source": [
        "### 2.2 Lists\n",
        "* Very common data structure\n",
        "* Useful with for-loops\n",
        "\n",
        "**Example**\n",
        "* Create a list called `first_list` with the elements 0,1,2,...,5"
      ]
    },
    {
      "cell_type": "code",
      "execution_count": null,
      "id": "ecbd53e1",
      "metadata": {
        "id": "ecbd53e1"
      },
      "outputs": [],
      "source": [
        "first_list = list(range(0,6))    # <----- 6, not 5!\n",
        "first_list = [0,1,2,3,4,5]\n",
        "print(first_list)"
      ]
    },
    {
      "cell_type": "markdown",
      "id": "6ecd5fe9",
      "metadata": {
        "id": "6ecd5fe9"
      },
      "source": [
        "#### 2.2.1 Subsetting lists\n",
        "* Print the first element of the list\n",
        "* Print the first three elements of the list\n",
        "* Print the last element of the list"
      ]
    },
    {
      "cell_type": "code",
      "execution_count": null,
      "id": "b0c68d09",
      "metadata": {
        "id": "b0c68d09"
      },
      "outputs": [],
      "source": [
        "print(first_list[0])\n",
        "print(first_list[0:3])    # elements 0,1,2. (not 3)\n",
        "print(first_list[-1])     # from the back"
      ]
    },
    {
      "cell_type": "markdown",
      "id": "5997a3a1",
      "metadata": {
        "id": "5997a3a1"
      },
      "source": [
        "#### 2.2.2 Lists can contain lists"
      ]
    },
    {
      "cell_type": "code",
      "execution_count": null,
      "id": "4609b371",
      "metadata": {
        "id": "4609b371"
      },
      "outputs": [],
      "source": [
        "# Example\n",
        "my_list = [0,\"one\",[0,1,2]]"
      ]
    },
    {
      "cell_type": "code",
      "execution_count": null,
      "id": "289c7bda",
      "metadata": {
        "id": "289c7bda"
      },
      "outputs": [],
      "source": [
        "# Exercise: access the \"1\" in my_list\n",
        "# Python code goes here"
      ]
    },
    {
      "cell_type": "markdown",
      "id": "223e2fbc",
      "metadata": {
        "id": "223e2fbc"
      },
      "source": [
        "#### 👍 2.2.3  Suggestions with lists\n",
        "\n",
        "**Exercise**\n",
        "* You want to append 7 to `my_list`\n",
        "* Type `my_list.` and then `crtl`-`Space`"
      ]
    },
    {
      "cell_type": "code",
      "execution_count": null,
      "id": "a3a70ce2",
      "metadata": {
        "id": "a3a70ce2"
      },
      "outputs": [],
      "source": [
        "my_list."
      ]
    },
    {
      "cell_type": "markdown",
      "id": "67ae34e6",
      "metadata": {
        "id": "67ae34e6"
      },
      "source": [
        "## 3 Advanced Data Strcutres\n",
        "* The most popular data structures are not part of core Python\n",
        "    * `array` is part of `scipy`\n",
        "    * `dataframe` is part of `pandas`\n",
        "    * See Chapter 5 <a target=\"_blank\" href=\"https://colab.research.google.com/github/peterhgruber/python-intro-colab/blob/main/05Python_Dataframes.ipynb\">\n",
        "  <img src=\"https://colab.research.google.com/assets/colab-badge.svg\" alt=\"Open In Colab\"/>\n",
        "</a>"
      ]
    },
    {
      "cell_type": "markdown",
      "id": "80c85570",
      "metadata": {
        "id": "80c85570"
      },
      "source": [
        "### 3.1 Arrays\n",
        "* $n$-dimensional, rectangular data structure\n",
        "* All elements of same type\n",
        "* Use for matrix/tensor algebra"
      ]
    },
    {
      "cell_type": "markdown",
      "id": "ac60ccf2",
      "metadata": {
        "id": "ac60ccf2"
      },
      "source": [
        "### 3.2 Dataframes\n",
        "* 2-dimensional, rectangular data structure\n",
        "* Elements of one column are same data type\n",
        "    * Each column can have different data type\n",
        "* Use for regression analysis"
      ]
    },
    {
      "cell_type": "markdown",
      "id": "87363a86",
      "metadata": {
        "id": "87363a86"
      },
      "source": [
        "## *Appendix: Summary of data types\n",
        "\n",
        "| Data Type       | Description                                                                       |\n",
        "|-----------------|-----------------------------------------------------------------------------------|\n",
        "| `int`           | Integer (whole numbers, positive or negativve)                                               |\n",
        "| `float`         | Floating-point                                      |\n",
        "| `complex`       | Complex number (real and imaginary part)                               |\n",
        "| `bool`          | Boolean type, can only have the values `True` or `False`                                            |\n",
        "\n"
      ]
    },
    {
      "cell_type": "markdown",
      "id": "068bfcac",
      "metadata": {
        "id": "068bfcac"
      },
      "source": [
        "## *Appendix: Summary of data structures\n",
        "\n",
        "| Data Structure       | Description                                                                  |\n",
        "|-----------------|-----------------------------------------------------------------------------------|\n",
        "| `str`           | Text string type, Unicode characters.                                          |\n",
        "| `list`          | Ordered collection of objects. Allows duplicate entries and is mutable (changeable).                |\n",
        "| `tuple`         | Ordered collection like `list`, but immutable (unchangeable).                               |\n",
        "| `dict`          | Dictionary. Unordered collection of key-value pairs. Keys must be unique.                         |\n",
        "| `range`         | Sequence of numbers, used in for-loops to control the number of iterations.     |\n",
        "| `set`           | Unordered collection of unique objects.                                                             |\n",
        "| `frozenset`     | Immutable version of `set`.                                                                      |\n",
        "| `bytearray`     | Sequences of bytes.                                                                       |\n",
        "| `bytes`         | Immutable version of `bytearray`                                                         |\n",
        "| `memoryview`    | Memory view object exposes the buffer protocol.                                                   |\n",
        "| `NoneType`      | Represents the absence of a value or a null value. Only one instance: `None`.                    |\n",
        "\n",
        "Sequences store multiple values in an organized and efficient way. There are seven sequence types: strings, bytes, lists, tuples, bytearrays, buffers, and range objects.\n",
        "\n",
        "- Most commonly used ones: strings, lists, and tuples\n",
        "- Ranges used in for-loops\n",
        "- [Sequence types Wikibooks.org](https://en.wikibooks.org/wiki/Python_Programming/Sequences#:~:text=Sequences%20allow%20you%20to%20store,are%20containers%20for%20sequential%20data.)\n"
      ]
    }
  ],
  "metadata": {
    "kernelspec": {
      "display_name": "Python 3 (ipykernel)",
      "language": "python",
      "name": "python3"
    },
    "language_info": {
      "codemirror_mode": {
        "name": "ipython",
        "version": 3
      },
      "file_extension": ".py",
      "mimetype": "text/x-python",
      "name": "python",
      "nbconvert_exporter": "python",
      "pygments_lexer": "ipython3",
      "version": "3.11.5"
    },
    "colab": {
      "provenance": []
    }
  },
  "nbformat": 4,
  "nbformat_minor": 5
}
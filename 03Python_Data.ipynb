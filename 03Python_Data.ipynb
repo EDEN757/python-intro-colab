{
 "cells": [
  {
   "cell_type": "markdown",
   "id": "22f282b7",
   "metadata": {},
   "source": [
    "<a target=\"_blank\" href=\"https://colab.research.google.com/github/peterhgruber/python-intro-colab/blob/main/03Python_Data.ipynb\">\n",
    "  <img src=\"https://colab.research.google.com/assets/colab-badge.svg\" alt=\"Open In Colab\"/>\n",
    "</a>"
   ]
  },
  {
   "cell_type": "markdown",
   "id": "1f0d16e0",
   "metadata": {},
   "source": [
    "# Introduction to Python\n",
    "### Main concepts of Python – Part 03\n",
    "Peter Gruber (peter.gruber@usi.ch), 2024-04-01\n",
    "\n",
    "* Data types\n",
    "* Data strcture"
   ]
  },
  {
   "cell_type": "markdown",
   "id": "cd75b863",
   "metadata": {},
   "source": [
    "## 1 Numeric types"
   ]
  },
  {
   "cell_type": "markdown",
   "id": "828137d3",
   "metadata": {},
   "source": [
    "**Create the following variables**\n",
    "* `a` integer 5\n",
    "* `b` real 5\n",
    "* `c` complex number 5+3i  $\\quad\\quad$ [Wikipedia](https://en.wikipedia.org/wiki/Complex_number)"
   ]
  },
  {
   "cell_type": "code",
   "execution_count": 4,
   "id": "eae2d061",
   "metadata": {},
   "outputs": [],
   "source": [
    "a = 5\n",
    "b = 5.0\n",
    "c = 5+3j            # In python complex numbers use \"j\" instead of \"i\""
   ]
  },
  {
   "cell_type": "code",
   "execution_count": 5,
   "id": "75f7b155",
   "metadata": {},
   "outputs": [
    {
     "name": "stdout",
     "output_type": "stream",
     "text": [
      "<class 'int'>\n",
      "<class 'float'>\n",
      "<class 'complex'>\n"
     ]
    }
   ],
   "source": [
    "print(type(a))\n",
    "print(type(b))\n",
    "print(type(c))"
   ]
  },
  {
   "cell_type": "code",
   "execution_count": 6,
   "id": "f1346450-a85c-47b2-9258-54591f4d8f0b",
   "metadata": {},
   "outputs": [
    {
     "name": "stdout",
     "output_type": "stream",
     "text": [
      "5 <class 'int'>\n"
     ]
    }
   ],
   "source": [
    "# \"b\" is a float -> To integer\n",
    "a1 = int(b)\n",
    "print(a1, type(a1))"
   ]
  },
  {
   "cell_type": "code",
   "execution_count": 9,
   "id": "6c040b7e-3bad-4b19-954a-0dde3b52b964",
   "metadata": {},
   "outputs": [
    {
     "name": "stdout",
     "output_type": "stream",
     "text": [
      "5\n"
     ]
    }
   ],
   "source": [
    "# Rounding\n",
    "d = 5.9\n",
    "print(int(d))"
   ]
  },
  {
   "cell_type": "code",
   "execution_count": 10,
   "id": "bab6d089",
   "metadata": {},
   "outputs": [
    {
     "name": "stdout",
     "output_type": "stream",
     "text": [
      "5.0 <class 'float'>\n"
     ]
    }
   ],
   "source": [
    "# \"a\" is integer -> To float\n",
    "b1 = float(a)\n",
    "print(b1, type(b1))"
   ]
  },
  {
   "cell_type": "markdown",
   "id": "6f237a51",
   "metadata": {},
   "source": [
    "## 2 Boolean type"
   ]
  },
  {
   "cell_type": "markdown",
   "id": "c2e55b13",
   "metadata": {},
   "source": [
    "Create the variable `d` containing the logical value for \"correct\""
   ]
  },
  {
   "cell_type": "code",
   "execution_count": 12,
   "id": "cf76319d",
   "metadata": {},
   "outputs": [
    {
     "name": "stdout",
     "output_type": "stream",
     "text": [
      "<class 'bool'>\n"
     ]
    }
   ],
   "source": [
    "d = True\n",
    "print(type(d))"
   ]
  },
  {
   "cell_type": "code",
   "execution_count": 13,
   "id": "45bc1ab8",
   "metadata": {},
   "outputs": [
    {
     "data": {
      "text/plain": [
       "True"
      ]
     },
     "execution_count": 13,
     "metadata": {},
     "output_type": "execute_result"
    }
   ],
   "source": [
    "# Interesting behaviour\n",
    "# Probably not what you expected\n",
    "d == 1 "
   ]
  },
  {
   "cell_type": "code",
   "execution_count": 12,
   "id": "db92ad28",
   "metadata": {},
   "outputs": [
    {
     "name": "stdout",
     "output_type": "stream",
     "text": [
      "True\n",
      "True\n"
     ]
    }
   ],
   "source": [
    "# InPython, True and False are equivalent to 0 and 1 \n",
    "print(True == 1)\n",
    "print(False == 0)"
   ]
  },
  {
   "cell_type": "markdown",
   "id": "d38f9b83",
   "metadata": {},
   "source": [
    "## 3 Sequence types\n",
    "\n",
    "Sequences store multiple values in an organized and efficient way. There are seven sequence types: strings, bytes, lists, tuples, bytearrays, buffers, and range objects.\n",
    "\n",
    "- Most commonly used ones: strings, lists, and tuples\n",
    "- Ranges used in for-loops\n",
    "- [Sequence types Wikibooks.org](https://en.wikibooks.org/wiki/Python_Programming/Sequences#:~:text=Sequences%20allow%20you%20to%20store,are%20containers%20for%20sequential%20data.)"
   ]
  },
  {
   "cell_type": "markdown",
   "id": "c2ea5662",
   "metadata": {},
   "source": [
    "### Strings\n",
    "Create a string called `myString` with the value *Hello world!*"
   ]
  },
  {
   "cell_type": "code",
   "execution_count": 16,
   "id": "ee910ffc",
   "metadata": {},
   "outputs": [],
   "source": [
    "myString = 'Hello world!'"
   ]
  },
  {
   "cell_type": "code",
   "execution_count": 17,
   "id": "6f0e7bda",
   "metadata": {},
   "outputs": [
    {
     "name": "stdout",
     "output_type": "stream",
     "text": [
      "<class 'str'>\n"
     ]
    }
   ],
   "source": [
    "print(type(myString))"
   ]
  },
  {
   "cell_type": "markdown",
   "id": "6a7f8ef6",
   "metadata": {},
   "source": [
    "### Lists\n",
    "Create a list called `myList` with the elements 0,1,2,...,5"
   ]
  },
  {
   "cell_type": "code",
   "execution_count": 23,
   "id": "ecbd53e1",
   "metadata": {},
   "outputs": [],
   "source": [
    "# Range counts to one less than the max!!!\n",
    "myList = list(range(0,6))    # <----- 6, not 5!\n",
    "myList = [0,1,2,3,4,5]\n",
    "myList = [0,\"one\",[0,1,2]]"
   ]
  },
  {
   "cell_type": "code",
   "execution_count": 29,
   "id": "3639762a-6b43-4ec4-8860-c5af472302f3",
   "metadata": {},
   "outputs": [
    {
     "data": {
      "text/plain": [
       "2"
      ]
     },
     "execution_count": 29,
     "metadata": {},
     "output_type": "execute_result"
    }
   ],
   "source": [
    "myList[2][2]"
   ]
  },
  {
   "cell_type": "markdown",
   "id": "6ecd5fe9",
   "metadata": {},
   "source": [
    "#### Subsetting\n",
    "* Print the first element of the list\n",
    "* Print the first three elements of the list\n",
    "* Print the last element of the list\n",
    "* **Hint:** Python starts counting at 0\n",
    "* **Hint:** Colon operator counts to \"one less\" than the maximum "
   ]
  },
  {
   "cell_type": "code",
   "execution_count": 20,
   "id": "b0c68d09",
   "metadata": {},
   "outputs": [
    {
     "name": "stdout",
     "output_type": "stream",
     "text": [
      "0\n",
      "[0, 1, 2]\n",
      "5\n"
     ]
    }
   ],
   "source": [
    "# Python code goes here\n",
    "print(myList[0])\n",
    "print(myList[0:3])    # elements 0,1,2. (not 3)\n",
    "print(myList[-1])     # from the back"
   ]
  },
  {
   "cell_type": "markdown",
   "id": "67f7ce0c",
   "metadata": {},
   "source": [
    "#### Subsetting with strings"
   ]
  },
  {
   "cell_type": "code",
   "execution_count": 21,
   "id": "6bc64ce7",
   "metadata": {},
   "outputs": [
    {
     "name": "stdout",
     "output_type": "stream",
     "text": [
      "H\n",
      "ell\n"
     ]
    }
   ],
   "source": [
    "#A string is seen as a \"sequence of characters\"\n",
    "print(myString[0])\n",
    "print(myString[1:4])"
   ]
  },
  {
   "cell_type": "markdown",
   "id": "5ffc51d5",
   "metadata": {},
   "source": [
    "### Tuples\n",
    "- Tuples are similar to lists\n",
    "    * But immutable (= cannot change the tuple)"
   ]
  },
  {
   "cell_type": "code",
   "execution_count": 30,
   "id": "25acad55",
   "metadata": {},
   "outputs": [
    {
     "name": "stdout",
     "output_type": "stream",
     "text": [
      "('me', 'you', 'us', 'them')\n"
     ]
    }
   ],
   "source": [
    "pronoun = (\"me\", \"you\", \"us\", \"them\")   # <--- Different set of brackets () vs. []\n",
    "print(pronoun)"
   ]
  },
  {
   "cell_type": "code",
   "execution_count": 31,
   "id": "bdb9cbc1",
   "metadata": {},
   "outputs": [
    {
     "name": "stdout",
     "output_type": "stream",
     "text": [
      "<class 'tuple'>\n"
     ]
    }
   ],
   "source": [
    "print(type(pronoun))"
   ]
  },
  {
   "cell_type": "markdown",
   "id": "8221d834",
   "metadata": {},
   "source": [
    "### (Extra) Use `Tab`\n",
    "- Place a dot after `pronoun` and `myList` \n",
    "- Press `Tab`\n",
    "    - View available options\n",
    "    - Note: No methods to modify the tuple\n",
    "- Press `ESC` to stop the display of options\n",
    "    \n",
    "In many Python environments, like the default Python interpreter or Jupyter notebooks, you can type the name of an object followed by a period (.) and then press the tab key to see a list of available methods for that object."
   ]
  },
  {
   "cell_type": "code",
   "execution_count": 35,
   "id": "197c64d4",
   "metadata": {},
   "outputs": [
    {
     "data": {
      "text/plain": [
       "('me', 'you', 'us', 'them')"
      ]
     },
     "execution_count": 35,
     "metadata": {},
     "output_type": "execute_result"
    }
   ],
   "source": [
    "#pronoun.<press tab here>\n",
    "pronoun"
   ]
  },
  {
   "cell_type": "code",
   "execution_count": 26,
   "id": "456cda22",
   "metadata": {},
   "outputs": [
    {
     "data": {
      "text/plain": [
       "[0, 1, 2, 3, 4, 5]"
      ]
     },
     "execution_count": 26,
     "metadata": {},
     "output_type": "execute_result"
    }
   ],
   "source": [
    "#myList.<press tab here>\n",
    "myList"
   ]
  },
  {
   "cell_type": "markdown",
   "id": "743741a0",
   "metadata": {},
   "source": [
    "## 4 Summary table"
   ]
  },
  {
   "cell_type": "markdown",
   "id": "b8340e5b",
   "metadata": {},
   "source": [
    "\n",
    "| Data Type       | Description                                                                                       |\n",
    "|-----------------|---------------------------------------------------------------------------------------------------|\n",
    "| `int`           | Integer (whole numbers, positive or negativve)                                               |\n",
    "| `float`         | Floating-point                                      |\n",
    "| `complex`       | Complex number (real and imaginary part)                               |\n",
    "| `str`           | Text string type, Unicode characters.                                          |\n",
    "| `bool`          | Boolean type, can only have the values `True` or `False`                                            |\n",
    "| `list`          | Ordered collection of objects. Allows duplicate entries and is mutable (changeable).                |\n",
    "| `tuple`         | Ordered collection like `list`, but immutable (unchangeable).                               |\n",
    "| `dict`          | Dictionary. Unordered collection of key-value pairs. Keys must be unique.                         |\n",
    "| `range`         | Sequence of numbers, used in for-loops to control the number of iterations.     |\n",
    "| `set`           | Unordered collection of unique objects.                                                             |\n",
    "| `frozenset`     | Immutable version of `set`.                                                                      |\n",
    "| `bytearray`     | Sequences of bytes.                                                                       |\n",
    "| `bytes`         | Immutable version of `bytearray`                                                         |\n",
    "| `memoryview`    | Memory view object exposes the buffer protocol.                                                   |\n",
    "| `NoneType`      | Represents the absence of a value or a null value. Only one instance: `None`.                    |\n",
    "\n"
   ]
  },
  {
   "cell_type": "markdown",
   "id": "b587b72e-a56c-4879-93f5-1cd250b97065",
   "metadata": {},
   "source": [
    "## The missing data types\n",
    "* Many popular data types like `dataframe` or `array` are not part of core Python\n",
    "* We discuss them with the according packages\n",
    "    * `dataframe` is part of `pandas`\n",
    "    * `array` is part of `scipy`\n",
    "    * `float32` is part of `numpy`"
   ]
  }
 ],
 "metadata": {
  "kernelspec": {
   "display_name": "Python 3 (ipykernel)",
   "language": "python",
   "name": "python3"
  },
  "language_info": {
   "codemirror_mode": {
    "name": "ipython",
    "version": 3
   },
   "file_extension": ".py",
   "mimetype": "text/x-python",
   "name": "python",
   "nbconvert_exporter": "python",
   "pygments_lexer": "ipython3",
   "version": "3.10.9"
  }
 },
 "nbformat": 4,
 "nbformat_minor": 5
}

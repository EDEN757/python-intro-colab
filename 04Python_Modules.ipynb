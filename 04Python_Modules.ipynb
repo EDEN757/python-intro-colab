{
 "cells": [
  {
   "cell_type": "markdown",
   "id": "22f282b7",
   "metadata": {},
   "source": [
    "<a target=\"_blank\" href=\"https://colab.research.google.com/github/peterhgruber/python-intro-colab/blob/main/04Python_Modules.ipynb\">\n",
    "  <img src=\"https://colab.research.google.com/assets/colab-badge.svg\" alt=\"Open In Colab\"/>\n",
    "</a>"
   ]
  },
  {
   "cell_type": "markdown",
   "id": "1f0d16e0",
   "metadata": {},
   "source": [
    "# Introduction to Python\n",
    "### Main concepts of Python – Part 04\n",
    "Peter Gruber (peter.gruber@usi.ch), 2024-04-01"
   ]
  },
  {
   "cell_type": "markdown",
   "id": "d06204e0",
   "metadata": {},
   "source": [
    "## Python modules and packages\n",
    "* **Module** = file containing (many) Python functions \n",
    "* **Package** = larger collection of modules + extra functionality\n",
    "    * Sometimes used synonymously\n",
    "\n",
    "#### Famous modules\n",
    "* `math`\n",
    "* `numpy`\n",
    "* `pandas`\n",
    "* `matplotlib`\n",
    "* `plotly`\n",
    "* `scipy`\n",
    "* `tensorflow`\n"
   ]
  },
  {
   "cell_type": "markdown",
   "id": "17d1fd5b",
   "metadata": {},
   "source": [
    "## Step 1: Install a package\n",
    "* Download to your computer\n",
    "* Usually done only once\n",
    "    * o harm if done multiple times\n",
    "* Use *Python Integrated Package mananger* = `pip`\n",
    "\n",
    "\n",
    "#### Note\n",
    "* Strictly speaking **not** a Python command. \n",
    "* Must run at level of operating system (i.e. outside Python)\n",
    "* However possible to run insider Python using `!` prefix\n",
    "    * May work without `!`  even inside Python (confusing)"
   ]
  },
  {
   "cell_type": "code",
   "execution_count": null,
   "id": "7a13e135",
   "metadata": {},
   "outputs": [],
   "source": [
    "# Install the Pandas package\n",
    "!pip install pandas"
   ]
  },
  {
   "cell_type": "markdown",
   "id": "d0b2ea84",
   "metadata": {},
   "source": [
    "## Step 2: Importing a package\n",
    "* **Remember:** We must \"run\" *(import)* a Python function before we can use it\n",
    "* This is done by import\n",
    "    * Usually at the top of the program $\\leftarrow$ people know what to install\n",
    "    * Run every time"
   ]
  },
  {
   "cell_type": "code",
   "execution_count": null,
   "id": "e9b8a9eb",
   "metadata": {},
   "outputs": [],
   "source": [
    "import pandas"
   ]
  },
  {
   "cell_type": "markdown",
   "id": "2eaf7f83",
   "metadata": {},
   "source": [
    "#### 2.2 Import widely used functions\n",
    "* Tired of `module.function()`? Import specific functions ..."
   ]
  },
  {
   "cell_type": "code",
   "execution_count": null,
   "id": "a249d0c4",
   "metadata": {},
   "outputs": [],
   "source": [
    "from math import sqrt, pi\n",
    "print (sqrt(9) )\n",
    "print (pi)\n"
   ]
  },
  {
   "cell_type": "code",
   "execution_count": null,
   "id": "d3ba8def",
   "metadata": {},
   "outputs": [],
   "source": [
    "# This will not work ... we did not import math\n",
    "print (math.log(1))       # we did not import log"
   ]
  },
  {
   "cell_type": "markdown",
   "id": "118937a1",
   "metadata": {},
   "source": [
    "#### 2.3 Import all (not a good idea)\n",
    "* Even possible:  import all functions using `from module import *`\n",
    "* May lead to errors $\\leftrightarrow$ considered *bad Python*"
   ]
  },
  {
   "cell_type": "code",
   "execution_count": null,
   "id": "1cb8d90e",
   "metadata": {},
   "outputs": [],
   "source": [
    "from math import *"
   ]
  },
  {
   "cell_type": "markdown",
   "id": "0af170ce",
   "metadata": {},
   "source": [
    "### 2.4 Understanding Python imports\n",
    "\n",
    "* It depends on the `import` statement\n",
    "    * This is usually found at the top\n",
    "    * Programmer chooses what to import\n",
    "* `import math` $\\rightarrow$  `math.log(1)`\n",
    "* `from math import log` $\\rightarrow$  `log(1)`\n",
    "\n",
    "**Note:** the long expression `math.log(1)` will always work\n"
   ]
  },
  {
   "cell_type": "code",
   "execution_count": null,
   "id": "71fec59f",
   "metadata": {},
   "outputs": [],
   "source": [
    "import math\n",
    "from math import sqrt, pi\n",
    "print (sqrt(9) )\n",
    "print (pi)\n",
    "print (math.log(1))"
   ]
  },
  {
   "cell_type": "code",
   "execution_count": 15,
   "id": "7dce5222",
   "metadata": {},
   "outputs": [
    {
     "name": "stdout",
     "output_type": "stream",
     "text": [
      "3.0\n"
     ]
    }
   ],
   "source": [
    "# Always works\n",
    "print (math.sqrt(9) )"
   ]
  },
  {
   "cell_type": "markdown",
   "id": "b73c24a1",
   "metadata": {},
   "source": [
    "## 3 Importing your own module\n",
    "* Collect your functions in Python file\n",
    "* Same import command\n",
    "\n",
    "### ❗️ Manual steps*\n",
    "* Create a file `myfunctions.py`\n",
    "* Copy the function f(x) from Part 2 <a target=\"_blank\" href=\"https://colab.research.google.com/github/peterhgruber/python-intro-colab/blob/main/02Python_Functions.ipynb\">\n",
    "<img src=\"https://colab.research.google.com/assets/colab-badge.svg\" alt=\"Open In Colab\"/></a>\n",
    "* Save the file in the same"
   ]
  },
  {
   "cell_type": "markdown",
   "id": "6803f4f0",
   "metadata": {},
   "source": [
    "# Example: this file contains"
   ]
  },
  {
   "cell_type": "markdown",
   "id": "1299a535",
   "metadata": {},
   "source": [
    "## Appendix: How did we know the `pip` command?\n",
    "* Identify any `import xxx` expressions\n",
    "* Package name is `xxx`\n",
    "    * Usually lower case\n",
    "    * Sometimes `import` and `pip` need different names (confusing)\n",
    "    * **Example:** the pillow package"
   ]
  },
  {
   "cell_type": "code",
   "execution_count": null,
   "id": "808f9e55",
   "metadata": {},
   "outputs": [],
   "source": [
    "# Example: a confusing package\n",
    "!pip install pillow"
   ]
  },
  {
   "cell_type": "code",
   "execution_count": null,
   "id": "346bc199",
   "metadata": {},
   "outputs": [],
   "source": [
    "import PIL"
   ]
  },
  {
   "cell_type": "markdown",
   "id": "88cc0027",
   "metadata": {},
   "source": [
    "## Appendix: How to upgrade a package?"
   ]
  },
  {
   "cell_type": "code",
   "execution_count": 10,
   "id": "32e89cb1",
   "metadata": {},
   "outputs": [
    {
     "name": "stdout",
     "output_type": "stream",
     "text": [
      "Requirement already satisfied: pip in /opt/homebrew/lib/python3.11/site-packages (24.0)\n"
     ]
    }
   ],
   "source": [
    "# First step: upgrade pip\n",
    "!pip install --upgrade pip"
   ]
  },
  {
   "cell_type": "code",
   "execution_count": 11,
   "id": "5cdc1a50",
   "metadata": {},
   "outputs": [
    {
     "name": "stdout",
     "output_type": "stream",
     "text": [
      "pandas                    2.2.2\n"
     ]
    }
   ],
   "source": [
    "# Get version of pandas package\n",
    "!pip list | grep pandas"
   ]
  },
  {
   "cell_type": "code",
   "execution_count": null,
   "id": "3b03a3f0",
   "metadata": {},
   "outputs": [],
   "source": [
    "# Get version of ALL packages (long)\n",
    "!pip list"
   ]
  },
  {
   "cell_type": "code",
   "execution_count": 8,
   "id": "1226676a",
   "metadata": {},
   "outputs": [
    {
     "name": "stdout",
     "output_type": "stream",
     "text": [
      "Requirement already satisfied: pandas in /opt/homebrew/lib/python3.11/site-packages (2.0.3)\n",
      "Collecting pandas\n",
      "  Downloading pandas-2.2.2-cp311-cp311-macosx_11_0_arm64.whl.metadata (19 kB)\n",
      "Requirement already satisfied: numpy>=1.23.2 in /opt/homebrew/lib/python3.11/site-packages (from pandas) (1.24.0)\n",
      "Requirement already satisfied: python-dateutil>=2.8.2 in /opt/homebrew/lib/python3.11/site-packages (from pandas) (2.8.2)\n",
      "Requirement already satisfied: pytz>=2020.1 in /opt/homebrew/lib/python3.11/site-packages (from pandas) (2023.3)\n",
      "Requirement already satisfied: tzdata>=2022.7 in /opt/homebrew/lib/python3.11/site-packages (from pandas) (2023.3)\n",
      "Requirement already satisfied: six>=1.5 in /opt/homebrew/lib/python3.11/site-packages (from python-dateutil>=2.8.2->pandas) (1.16.0)\n",
      "Downloading pandas-2.2.2-cp311-cp311-macosx_11_0_arm64.whl (11.3 MB)\n",
      "\u001b[2K   \u001b[90m━━━━━━━━━━━━━━━━━━━━━━━━━━━━━━━━━━━━━━━━\u001b[0m \u001b[32m11.3/11.3 MB\u001b[0m \u001b[31m5.5 MB/s\u001b[0m eta \u001b[36m0:00:00\u001b[0m00:01\u001b[0m00:01\u001b[0m\n",
      "\u001b[?25hInstalling collected packages: pandas\n",
      "  Attempting uninstall: pandas\n",
      "    Found existing installation: pandas 2.0.3\n",
      "    Uninstalling pandas-2.0.3:\n",
      "      Successfully uninstalled pandas-2.0.3\n",
      "Successfully installed pandas-2.2.2\n"
     ]
    }
   ],
   "source": [
    "# Upgrade to latest version\n",
    "!pip install pandas --upgrade"
   ]
  },
  {
   "cell_type": "code",
   "execution_count": null,
   "id": "6eef39b0",
   "metadata": {},
   "outputs": [],
   "source": [
    "# In case of problems\n",
    "pip install --force-reinstall pands"
   ]
  },
  {
   "cell_type": "code",
   "execution_count": 13,
   "id": "561d468a",
   "metadata": {},
   "outputs": [
    {
     "name": "stdout",
     "output_type": "stream",
     "text": [
      "\u001b[33mWARNING: pip index is currently an experimental command. It may be removed/changed in a future release without prior warning.\u001b[0m\u001b[33m\n",
      "\u001b[0mpandas (2.2.2)\n",
      "Available versions: 2.2.2, 2.2.1, 2.2.0, 2.1.4, 2.1.3, 2.1.2, 2.1.1, 2.1.0, 2.0.3, 2.0.2, 2.0.1, 2.0.0, 1.5.3, 1.5.2, 1.5.1, 1.5.0, 1.4.4, 1.4.3, 1.4.2, 1.4.1, 1.4.0, 1.3.5, 1.3.4, 1.3.3, 1.3.2, 1.3.1, 1.3.0, 1.2.5, 1.2.4, 1.2.3, 1.2.2, 1.2.1, 1.2.0, 1.1.5, 1.1.4, 1.1.3, 1.1.2, 1.1.1, 1.1.0, 1.0.5, 1.0.4, 1.0.3, 1.0.2, 1.0.1, 1.0.0, 0.25.3, 0.25.2, 0.25.1, 0.25.0, 0.24.2, 0.24.1, 0.24.0, 0.23.4, 0.23.3, 0.23.2, 0.23.1, 0.23.0, 0.22.0, 0.21.1, 0.21.0, 0.20.3, 0.20.2, 0.20.1, 0.20.0, 0.19.2, 0.19.1, 0.19.0, 0.18.1, 0.18.0, 0.17.1, 0.17.0, 0.16.2, 0.16.1, 0.16.0, 0.15.2, 0.15.1, 0.15.0, 0.14.1, 0.14.0, 0.13.1, 0.13.0, 0.12.0, 0.11.0, 0.10.1, 0.10.0, 0.9.1, 0.9.0, 0.8.1, 0.8.0, 0.7.3, 0.7.2, 0.7.1, 0.7.0, 0.6.1, 0.6.0, 0.5.0, 0.4.3, 0.4.2, 0.4.1, 0.4.0, 0.3.0, 0.2, 0.1\n",
      "  INSTALLED: 2.2.2\n",
      "  LATEST:    2.2.2\n"
     ]
    }
   ],
   "source": [
    "# List all available versions\n",
    "!pip index versions pandas"
   ]
  },
  {
   "cell_type": "code",
   "execution_count": 14,
   "id": "dac6e6c2",
   "metadata": {},
   "outputs": [
    {
     "name": "stdout",
     "output_type": "stream",
     "text": [
      "Collecting pandas==2.2.1\n",
      "  Using cached pandas-2.2.1-cp311-cp311-macosx_11_0_arm64.whl.metadata (19 kB)\n",
      "Requirement already satisfied: numpy<2,>=1.23.2 in /opt/homebrew/lib/python3.11/site-packages (from pandas==2.2.1) (1.24.0)\n",
      "Requirement already satisfied: python-dateutil>=2.8.2 in /opt/homebrew/lib/python3.11/site-packages (from pandas==2.2.1) (2.8.2)\n",
      "Requirement already satisfied: pytz>=2020.1 in /opt/homebrew/lib/python3.11/site-packages (from pandas==2.2.1) (2023.3)\n",
      "Requirement already satisfied: tzdata>=2022.7 in /opt/homebrew/lib/python3.11/site-packages (from pandas==2.2.1) (2023.3)\n",
      "Requirement already satisfied: six>=1.5 in /opt/homebrew/lib/python3.11/site-packages (from python-dateutil>=2.8.2->pandas==2.2.1) (1.16.0)\n",
      "Using cached pandas-2.2.1-cp311-cp311-macosx_11_0_arm64.whl (11.3 MB)\n",
      "Installing collected packages: pandas\n",
      "  Attempting uninstall: pandas\n",
      "    Found existing installation: pandas 2.2.2\n",
      "    Uninstalling pandas-2.2.2:\n",
      "      Successfully uninstalled pandas-2.2.2\n",
      "Successfully installed pandas-2.2.1\n"
     ]
    }
   ],
   "source": [
    "# Install a specific version of pandas, e.g. 2.2.1\n",
    "!pip install pandas==2.2.1"
   ]
  }
 ],
 "metadata": {
  "kernelspec": {
   "display_name": "Python 3 (ipykernel)",
   "language": "python",
   "name": "python3"
  },
  "language_info": {
   "codemirror_mode": {
    "name": "ipython",
    "version": 3
   },
   "file_extension": ".py",
   "mimetype": "text/x-python",
   "name": "python",
   "nbconvert_exporter": "python",
   "pygments_lexer": "ipython3",
   "version": "3.11.5"
  }
 },
 "nbformat": 4,
 "nbformat_minor": 5
}

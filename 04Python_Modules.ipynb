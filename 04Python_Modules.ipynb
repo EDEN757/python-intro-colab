{
 "cells": [
  {
   "cell_type": "markdown",
   "id": "22f282b7",
   "metadata": {},
   "source": [
    "<a target=\"_blank\" href=\"https://colab.research.google.com/github/peterhgruber/python-intro-colab/blob/main/03Python_Data.ipynb\">\n",
    "  <img src=\"https://colab.research.google.com/assets/colab-badge.svg\" alt=\"Open In Colab\"/>\n",
    "</a>"
   ]
  },
  {
   "cell_type": "markdown",
   "id": "1f0d16e0",
   "metadata": {},
   "source": [
    "# Introduction to Python\n",
    "### Main concepts of Python – Part 04\n",
    "Peter Gruber (peter.gruber@usi.ch), 2024-04-01"
   ]
  },
  {
   "cell_type": "markdown",
   "id": "d06204e0",
   "metadata": {},
   "source": [
    "## Python modules and packages\n",
    "* **Module** = file containing (many) Python functions \n",
    "* **Package** = larger collection of modules + extra functionality\n",
    "    * Sometimes used synonymously\n",
    "\n",
    "#### Famous modules\n",
    "* `math`\n",
    "* `pandas`\n",
    "* `matplotlib`"
   ]
  },
  {
   "cell_type": "markdown",
   "id": "17d1fd5b",
   "metadata": {},
   "source": [
    "## Step 1: Install a package\n",
    "* Download to your computer\n",
    "* Usually done only once\n",
    "    * o harm if done multiple times\n",
    "* Use *Python Integrated Package mananger* = `pip`\n",
    "\n",
    "#### Note:\n",
    "* Strictly speaking **not** a Python command. \n",
    "* Must run at level of operating system (i.e. outside Python)\n",
    "* However possible to run insider Python using `!` prefix\n",
    "    * Sometimes, the `!` is not needed even inside Python (confusing)"
   ]
  },
  {
   "cell_type": "code",
   "execution_count": null,
   "id": "7a13e135",
   "metadata": {},
   "outputs": [],
   "source": [
    "# Install the Pandas package\n",
    "!pip install pandas"
   ]
  },
  {
   "cell_type": "markdown",
   "id": "d0b2ea84",
   "metadata": {},
   "source": [
    "## Step 2: Importing a package\n",
    "* **Remember:** We must \"run\" *(import)* a Python function before we can use it\n",
    "* This is done by import\n",
    "    * Usually at the top of the program $\\leftarrow$ people know what to install\n",
    "    * Run every time"
   ]
  },
  {
   "cell_type": "code",
   "execution_count": null,
   "id": "e9b8a9eb",
   "metadata": {},
   "outputs": [],
   "source": [
    "import pandas"
   ]
  },
  {
   "cell_type": "markdown",
   "id": "2eaf7f83",
   "metadata": {},
   "source": [
    "#### 2.2 Import widely used functions\n",
    "* Tired of `module.function()`? Import specific functions ..."
   ]
  },
  {
   "cell_type": "code",
   "execution_count": null,
   "id": "a249d0c4",
   "metadata": {},
   "outputs": [],
   "source": [
    "from math import sqrt, pi\n",
    "print (sqrt(9) )\n",
    "print (pi)\n",
    "print (math.log(1))       # we did not import log"
   ]
  },
  {
   "cell_type": "markdown",
   "id": "1cb8d90e",
   "metadata": {},
   "source": [
    "* Even possible:  import all functions using `from module import *`\n",
    "* May lead to errors $\\leftrightarrow$ considered *bad Python*"
   ]
  },
  {
   "cell_type": "markdown",
   "id": "0af170ce",
   "metadata": {},
   "source": [
    "## 2.2 Reading Python code\n",
    "\n",
    "* It depends on the `import` statement\n",
    "    * This is usually found at the top\n",
    "    * Programmer chooses what to import\n",
    "* `import math` $\\rightarrow$  `math.log(1)`\n",
    "* `from math import log` $\\rightarrow$  `log(1)`\n",
    "\n",
    "**Note:** the long expression `math.log(1)` will always work\n"
   ]
  },
  {
   "cell_type": "code",
   "execution_count": null,
   "id": "71fec59f",
   "metadata": {},
   "outputs": [],
   "source": [
    "from math import *\n",
    "print( exp(1) )"
   ]
  },
  {
   "cell_type": "markdown",
   "id": "1299a535",
   "metadata": {},
   "source": [
    "## Appendix: How did we know the `pip` command?\n",
    "* Identify any `import xxx` expressions\n",
    "* Package name is `xxx`\n",
    "    * Usually lower case\n",
    "    * Sometimes `import` and `pip` need different names (confusing)\n",
    "    * **Example:** the pillow package"
   ]
  },
  {
   "cell_type": "code",
   "execution_count": null,
   "id": "808f9e55",
   "metadata": {},
   "outputs": [],
   "source": [
    "# Example: a confusing package\n",
    "!pip install pillow"
   ]
  },
  {
   "cell_type": "code",
   "execution_count": null,
   "id": "346bc199",
   "metadata": {},
   "outputs": [],
   "source": [
    "import PIL"
   ]
  }
 ],
 "metadata": {
  "kernelspec": {
   "display_name": "Python 3 (ipykernel)",
   "language": "python",
   "name": "python3"
  },
  "language_info": {
   "codemirror_mode": {
    "name": "ipython",
    "version": 3
   },
   "file_extension": ".py",
   "mimetype": "text/x-python",
   "name": "python",
   "nbconvert_exporter": "python",
   "pygments_lexer": "ipython3",
   "version": "3.11.5"
  }
 },
 "nbformat": 4,
 "nbformat_minor": 5
}

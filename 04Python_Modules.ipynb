{
  "cells": [
    {
      "cell_type": "markdown",
      "id": "22f282b7",
      "metadata": {
        "id": "22f282b7"
      },
      "source": [
        "<a target=\"_blank\" href=\"https://colab.research.google.com/github/peterhgruber/python-intro-colab/blob/main/04Python_Modules.ipynb\">\n",
        "  <img src=\"https://colab.research.google.com/assets/colab-badge.svg\" alt=\"Open In Colab\"/>\n",
        "</a>"
      ]
    },
    {
      "cell_type": "markdown",
      "id": "1f0d16e0",
      "metadata": {
        "id": "1f0d16e0"
      },
      "source": [
        "# Introduction to Python\n",
        "### Main concepts of Python – Part 04\n",
        "Peter Gruber (peter.gruber@usi.ch), 2024-04-01"
      ]
    },
    {
      "cell_type": "markdown",
      "id": "d06204e0",
      "metadata": {
        "id": "d06204e0"
      },
      "source": [
        "## Python modules and packages\n",
        "* **Module** = file containing (many) Python functions\n",
        "* **Package** = larger collection of modules + extra functionality\n",
        "    * Sometimes used synonymously\n",
        "\n",
        "#### Famous modules\n",
        "* `math`\n",
        "* `numpy`\n",
        "* `pandas`\n",
        "* `matplotlib`\n",
        "* `plotly`\n",
        "* `scipy`\n",
        "* `tensorflow`\n"
      ]
    },
    {
      "cell_type": "markdown",
      "id": "17d1fd5b",
      "metadata": {
        "id": "17d1fd5b"
      },
      "source": [
        "## Step 1: Install a package\n",
        "* Download to your computer\n",
        "* Usually done only once\n",
        "    * No harm if done multiple times\n",
        "* Use *Python Integrated Package mananger* = `pip`\n",
        "\n",
        "\n",
        "#### Note\n",
        "* Strictly speaking **not** a Python command.\n",
        "* Must run at level of operating system (i.e. outside Python)\n",
        "* However possible to run insider Python using `!` prefix\n",
        "    * May work without `!`  even inside Python (confusing)"
      ]
    },
    {
      "cell_type": "code",
      "execution_count": null,
      "id": "7a13e135",
      "metadata": {
        "id": "7a13e135"
      },
      "outputs": [],
      "source": [
        "# Install the Pandas package\n",
        "!pip install pandas"
      ]
    },
    {
      "cell_type": "markdown",
      "id": "d0b2ea84",
      "metadata": {
        "id": "d0b2ea84"
      },
      "source": [
        "## Step 2: Importing a package\n",
        "* **Remember:** We must \"run\" *(import)* a Python function before we can use it\n",
        "* This is done by import\n",
        "    * Usually at the top of the program ⬅︎ people know what to install\n",
        "    * Run every time\n",
        "\n"
      ]
    },
    {
      "cell_type": "code",
      "execution_count": null,
      "id": "e9b8a9eb",
      "metadata": {
        "id": "e9b8a9eb"
      },
      "outputs": [],
      "source": [
        "import pandas"
      ]
    },
    {
      "cell_type": "markdown",
      "id": "2eaf7f83",
      "metadata": {
        "id": "2eaf7f83"
      },
      "source": [
        "#### 2.2 Import widely used functions\n",
        "* Tired of `module.function()`? Import specific functions ..."
      ]
    },
    {
      "cell_type": "code",
      "execution_count": null,
      "id": "a249d0c4",
      "metadata": {
        "id": "a249d0c4"
      },
      "outputs": [],
      "source": [
        "from math import sqrt, pi\n",
        "print (sqrt(9) )\n",
        "print (pi)\n"
      ]
    },
    {
      "cell_type": "code",
      "execution_count": null,
      "id": "d3ba8def",
      "metadata": {
        "id": "d3ba8def"
      },
      "outputs": [],
      "source": [
        "# This will not work ...\n",
        "print (math.log(1))       # we did not import log"
      ]
    },
    {
      "cell_type": "markdown",
      "id": "118937a1",
      "metadata": {
        "id": "118937a1"
      },
      "source": [
        "#### 2.3 Import all (not a good idea)\n",
        "* Even possible:  import all functions using `from module import *`\n",
        "* May lead to errors $\\leftrightarrow$ considered *bad Python*\n",
        "\n",
        "`from math import *`"
      ]
    },
    {
      "cell_type": "markdown",
      "id": "0af170ce",
      "metadata": {
        "id": "0af170ce"
      },
      "source": [
        "### 2.4 Understanding Python imports\n",
        "\n",
        "* It depends on the `import` statement\n",
        "    * This is usually found at the top\n",
        "    * Programmer chooses what to import\n",
        "* `import math` $\\rightarrow$  `math.log(1)`\n",
        "* `from math import sqrt` $\\rightarrow$  `sqrt(9)`\n",
        "\n",
        "**Note:** the long expression `math.sqrt(9)` will always work\n"
      ]
    },
    {
      "cell_type": "code",
      "execution_count": null,
      "id": "71fec59f",
      "metadata": {
        "id": "71fec59f"
      },
      "outputs": [],
      "source": [
        "import math\n",
        "from math import sqrt, pi\n",
        "print (sqrt(9) )\n",
        "print (pi)\n",
        "print (math.log(1))"
      ]
    },
    {
      "cell_type": "code",
      "execution_count": null,
      "id": "7dce5222",
      "metadata": {
        "id": "7dce5222"
      },
      "outputs": [],
      "source": [
        "# The long expression always works\n",
        "print (sqrt(9) )\n",
        "print (math.sqrt(9) )"
      ]
    },
    {
      "cell_type": "markdown",
      "id": "b73c24a1",
      "metadata": {
        "id": "b73c24a1"
      },
      "source": [
        "## 3 Importing your own module\n",
        "* Collect your functions in Python file\n",
        "* Same import command\n",
        "\n",
        "### ❗️ Manual steps*\n",
        "* Create a file `myfunctions.py`\n",
        "* Copy the functions `f()` and `unif_dens()` from Part 2 <a target=\"_blank\" href=\"https://colab.research.google.com/github/peterhgruber/python-intro-colab/blob/main/02Python_Functions.ipynb\">\n",
        "<img src=\"https://colab.research.google.com/assets/colab-badge.svg\" alt=\"Open In Colab\"/></a>\n",
        "* Upload the file to Colab\n",
        "    * **Note:** You can download this file here: https://github.com/peterhgruber/python-intro-colab/blob/main/myfunctions.py"
      ]
    },
    {
      "cell_type": "code",
      "execution_count": null,
      "id": "1baefd74",
      "metadata": {
        "id": "1baefd74"
      },
      "outputs": [],
      "source": [
        "# Now we can import our own module (here the * is OK because we know what is in the module)\n",
        "from myfunctions import *"
      ]
    },
    {
      "cell_type": "code",
      "execution_count": null,
      "id": "c3367dfc",
      "metadata": {
        "id": "c3367dfc"
      },
      "outputs": [],
      "source": [
        "# ... and use our functions\n",
        "f(2)"
      ]
    },
    {
      "cell_type": "code",
      "execution_count": null,
      "id": "68cc0115",
      "metadata": {
        "id": "68cc0115"
      },
      "outputs": [],
      "source": [
        "unif_dens(0,-10,10)"
      ]
    },
    {
      "cell_type": "markdown",
      "id": "1299a535",
      "metadata": {
        "id": "1299a535"
      },
      "source": [
        "## Appendix: How did we know the `pip` command?\n",
        "* Identify any `import xxx` expressions\n",
        "* Package name is `xxx`\n",
        "    * Usually lower case\n",
        "\n",
        "#### Example\n",
        "* You read `import pandas` in a program\n",
        "* You need to ..."
      ]
    },
    {
      "cell_type": "markdown",
      "id": "7fb4f670",
      "metadata": {
        "id": "7fb4f670"
      },
      "source": [
        "!pip install pandas"
      ]
    },
    {
      "cell_type": "markdown",
      "id": "b7357875",
      "metadata": {
        "id": "b7357875"
      },
      "source": [
        "#### Exception: crazy package names\n",
        "* Sometimes `import` and `pip` need different names (confusing)\n",
        "\n",
        "\n",
        "**Example:** the pillow package\n",
        "* You read `import PIL`\n",
        "* The name of the package to be installed is `pillow``\n",
        "    * No way to know this without googling\n"
      ]
    },
    {
      "cell_type": "code",
      "execution_count": null,
      "id": "346bc199",
      "metadata": {
        "id": "346bc199"
      },
      "outputs": [],
      "source": [
        "# This will not work\n",
        "!pip install PIL"
      ]
    },
    {
      "cell_type": "code",
      "execution_count": null,
      "id": "808f9e55",
      "metadata": {
        "id": "808f9e55"
      },
      "outputs": [],
      "source": [
        "# Example: a confusing package\n",
        "!pip install pillow"
      ]
    },
    {
      "cell_type": "code",
      "source": [
        "# But the import uses PIL\n",
        "from PIL import Image"
      ],
      "metadata": {
        "id": "nIzBFU3P4QJ2"
      },
      "id": "nIzBFU3P4QJ2",
      "execution_count": null,
      "outputs": []
    },
    {
      "cell_type": "markdown",
      "id": "88cc0027",
      "metadata": {
        "id": "88cc0027"
      },
      "source": [
        "## Appendix: How to upgrade a package?"
      ]
    },
    {
      "cell_type": "code",
      "execution_count": null,
      "id": "32e89cb1",
      "metadata": {
        "id": "32e89cb1"
      },
      "outputs": [],
      "source": [
        "# First step: upgrade pip\n",
        "!pip install --upgrade pip"
      ]
    },
    {
      "cell_type": "code",
      "execution_count": null,
      "id": "5cdc1a50",
      "metadata": {
        "id": "5cdc1a50"
      },
      "outputs": [],
      "source": [
        "# Get version of pandas package\n",
        "!pip list | grep pandas"
      ]
    },
    {
      "cell_type": "code",
      "execution_count": null,
      "id": "9cc5a293",
      "metadata": {
        "id": "9cc5a293"
      },
      "outputs": [],
      "source": [
        "# ... or with this command\n",
        "import pandas\n",
        "print(pandas. __version__)"
      ]
    },
    {
      "cell_type": "code",
      "execution_count": null,
      "id": "1226676a",
      "metadata": {
        "id": "1226676a"
      },
      "outputs": [],
      "source": [
        "# Upgrade to latest version\n",
        "!pip install pandas --upgrade"
      ]
    },
    {
      "cell_type": "markdown",
      "id": "37e7ce8d",
      "metadata": {
        "id": "37e7ce8d"
      },
      "source": [
        "#### Installing a specific version of a package"
      ]
    },
    {
      "cell_type": "code",
      "execution_count": null,
      "id": "561d468a",
      "metadata": {
        "id": "561d468a"
      },
      "outputs": [],
      "source": [
        "# List all available versions\n",
        "!pip index versions pandas"
      ]
    },
    {
      "cell_type": "code",
      "execution_count": null,
      "id": "dac6e6c2",
      "metadata": {
        "id": "dac6e6c2"
      },
      "outputs": [],
      "source": [
        "# Install a specific version of pandas, e.g. 2.2.1\n",
        "!pip install pandas==2.2.1"
      ]
    },
    {
      "cell_type": "markdown",
      "id": "d5ca14d5",
      "metadata": {
        "id": "d5ca14d5"
      },
      "source": [
        "#### *Trouble-shooting an installation"
      ]
    },
    {
      "cell_type": "code",
      "execution_count": null,
      "id": "6eef39b0",
      "metadata": {
        "id": "6eef39b0"
      },
      "outputs": [],
      "source": [
        "# In case of problems\n",
        "pip install --force-reinstall pands"
      ]
    },
    {
      "cell_type": "markdown",
      "id": "28890464",
      "metadata": {
        "id": "28890464"
      },
      "source": [
        "#### *More information about available packages"
      ]
    },
    {
      "cell_type": "code",
      "execution_count": null,
      "id": "3b03a3f0",
      "metadata": {
        "id": "3b03a3f0"
      },
      "outputs": [],
      "source": [
        "# Get version of ALL packages (long)\n",
        "!pip list"
      ]
    }
  ],
  "metadata": {
    "kernelspec": {
      "display_name": "Python 3 (ipykernel)",
      "language": "python",
      "name": "python3"
    },
    "language_info": {
      "codemirror_mode": {
        "name": "ipython",
        "version": 3
      },
      "file_extension": ".py",
      "mimetype": "text/x-python",
      "name": "python",
      "nbconvert_exporter": "python",
      "pygments_lexer": "ipython3",
      "version": "3.11.5"
    },
    "colab": {
      "provenance": []
    }
  },
  "nbformat": 4,
  "nbformat_minor": 5
}
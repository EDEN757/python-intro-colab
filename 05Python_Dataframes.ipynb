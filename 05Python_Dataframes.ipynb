{
 "cells": [
  {
   "cell_type": "markdown",
   "id": "b8922c01",
   "metadata": {},
   "source": [
    "<a target=\"_blank\" href=\"https://colab.research.google.com/github/peterhgruber/python-intro-colab/blob/main/05Python_Dataframes.ipynb\">\n",
    "  <img src=\"https://colab.research.google.com/assets/colab-badge.svg\" alt=\"Open In Colab\"/>\n",
    "</a>"
   ]
  },
  {
   "cell_type": "markdown",
   "id": "906395dc-5bd1-477f-af29-72c03d8e239e",
   "metadata": {},
   "source": [
    "# Introduction to Python\n",
    "### Main concepts of Python – Part 04\n",
    "Peter Gruber (peter.gruber@usi.ch), 2024-04-01\n",
    "\n",
    "* Pandas DataFrames"
   ]
  },
  {
   "cell_type": "markdown",
   "id": "80873f5c",
   "metadata": {},
   "source": [
    "##  Pandas\n",
    "- Powerful library for ...\n",
    "    - Managing data in dataframes\n",
    "    - Modifying data structures (merge, subset)\n",
    "    - Performing basic data analysis\n",
    "    - Simple plotting\n",
    "- Gold standard for data analysis in Python"
   ]
  },
  {
   "cell_type": "markdown",
   "id": "9ebeaab5",
   "metadata": {},
   "source": [
    "## 1 Setup Pandas"
   ]
  },
  {
   "cell_type": "code",
   "execution_count": null,
   "id": "1bd53ace",
   "metadata": {},
   "outputs": [],
   "source": [
    "# Install pandas: Uncomment the line below and run it *once*\n",
    "# !pip install pandas   "
   ]
  },
  {
   "cell_type": "code",
   "execution_count": 3,
   "id": "1c31b6e1",
   "metadata": {},
   "outputs": [],
   "source": [
    "# Importing the library \n",
    "# \"... as pd\" creates a shortcut for later use ... everybody does it\n",
    "import pandas as pd"
   ]
  },
  {
   "cell_type": "markdown",
   "id": "c8548849",
   "metadata": {},
   "source": [
    "## 2 Load data\n",
    "\n",
    "- Advertising click prediction, https://www.kaggle.com/jahnveenarang/cvdcvd-vd"
   ]
  },
  {
   "cell_type": "code",
   "execution_count": 10,
   "id": "3d0546a6",
   "metadata": {},
   "outputs": [],
   "source": [
    "# Load dataframe\n",
    "# On Colab: upload file first\n",
    "df = pd.read_pickle('Social_Network_Ads.pkl')"
   ]
  },
  {
   "cell_type": "markdown",
   "id": "c6349dd3",
   "metadata": {},
   "source": [
    "## 3 Inspect data"
   ]
  },
  {
   "cell_type": "code",
   "execution_count": 5,
   "id": "c244e346-d9cd-4e9f-89ac-0e4db16b1876",
   "metadata": {},
   "outputs": [
    {
     "data": {
      "text/html": [
       "<div>\n",
       "<style scoped>\n",
       "    .dataframe tbody tr th:only-of-type {\n",
       "        vertical-align: middle;\n",
       "    }\n",
       "\n",
       "    .dataframe tbody tr th {\n",
       "        vertical-align: top;\n",
       "    }\n",
       "\n",
       "    .dataframe thead th {\n",
       "        text-align: right;\n",
       "    }\n",
       "</style>\n",
       "<table border=\"1\" class=\"dataframe\">\n",
       "  <thead>\n",
       "    <tr style=\"text-align: right;\">\n",
       "      <th></th>\n",
       "      <th>User ID</th>\n",
       "      <th>Gender</th>\n",
       "      <th>Age</th>\n",
       "      <th>EstimatedSalary</th>\n",
       "      <th>Purchased</th>\n",
       "    </tr>\n",
       "  </thead>\n",
       "  <tbody>\n",
       "    <tr>\n",
       "      <th>0</th>\n",
       "      <td>15624510</td>\n",
       "      <td>Male</td>\n",
       "      <td>19</td>\n",
       "      <td>19000</td>\n",
       "      <td>0</td>\n",
       "    </tr>\n",
       "    <tr>\n",
       "      <th>1</th>\n",
       "      <td>15810944</td>\n",
       "      <td>Male</td>\n",
       "      <td>35</td>\n",
       "      <td>20000</td>\n",
       "      <td>0</td>\n",
       "    </tr>\n",
       "    <tr>\n",
       "      <th>2</th>\n",
       "      <td>15668575</td>\n",
       "      <td>Female</td>\n",
       "      <td>26</td>\n",
       "      <td>43000</td>\n",
       "      <td>0</td>\n",
       "    </tr>\n",
       "    <tr>\n",
       "      <th>3</th>\n",
       "      <td>15603246</td>\n",
       "      <td>Female</td>\n",
       "      <td>27</td>\n",
       "      <td>57000</td>\n",
       "      <td>0</td>\n",
       "    </tr>\n",
       "    <tr>\n",
       "      <th>4</th>\n",
       "      <td>15804002</td>\n",
       "      <td>Male</td>\n",
       "      <td>19</td>\n",
       "      <td>76000</td>\n",
       "      <td>0</td>\n",
       "    </tr>\n",
       "    <tr>\n",
       "      <th>...</th>\n",
       "      <td>...</td>\n",
       "      <td>...</td>\n",
       "      <td>...</td>\n",
       "      <td>...</td>\n",
       "      <td>...</td>\n",
       "    </tr>\n",
       "    <tr>\n",
       "      <th>395</th>\n",
       "      <td>15691863</td>\n",
       "      <td>Female</td>\n",
       "      <td>46</td>\n",
       "      <td>41000</td>\n",
       "      <td>1</td>\n",
       "    </tr>\n",
       "    <tr>\n",
       "      <th>396</th>\n",
       "      <td>15706071</td>\n",
       "      <td>Male</td>\n",
       "      <td>51</td>\n",
       "      <td>23000</td>\n",
       "      <td>1</td>\n",
       "    </tr>\n",
       "    <tr>\n",
       "      <th>397</th>\n",
       "      <td>15654296</td>\n",
       "      <td>Female</td>\n",
       "      <td>50</td>\n",
       "      <td>20000</td>\n",
       "      <td>1</td>\n",
       "    </tr>\n",
       "    <tr>\n",
       "      <th>398</th>\n",
       "      <td>15755018</td>\n",
       "      <td>Male</td>\n",
       "      <td>36</td>\n",
       "      <td>33000</td>\n",
       "      <td>0</td>\n",
       "    </tr>\n",
       "    <tr>\n",
       "      <th>399</th>\n",
       "      <td>15594041</td>\n",
       "      <td>Female</td>\n",
       "      <td>49</td>\n",
       "      <td>36000</td>\n",
       "      <td>1</td>\n",
       "    </tr>\n",
       "  </tbody>\n",
       "</table>\n",
       "<p>400 rows × 5 columns</p>\n",
       "</div>"
      ],
      "text/plain": [
       "      User ID  Gender  Age  EstimatedSalary  Purchased\n",
       "0    15624510    Male   19            19000          0\n",
       "1    15810944    Male   35            20000          0\n",
       "2    15668575  Female   26            43000          0\n",
       "3    15603246  Female   27            57000          0\n",
       "4    15804002    Male   19            76000          0\n",
       "..        ...     ...  ...              ...        ...\n",
       "395  15691863  Female   46            41000          1\n",
       "396  15706071    Male   51            23000          1\n",
       "397  15654296  Female   50            20000          1\n",
       "398  15755018    Male   36            33000          0\n",
       "399  15594041  Female   49            36000          1\n",
       "\n",
       "[400 rows x 5 columns]"
      ]
     },
     "execution_count": 5,
     "metadata": {},
     "output_type": "execute_result"
    }
   ],
   "source": [
    "df"
   ]
  },
  {
   "cell_type": "code",
   "execution_count": 6,
   "id": "63b057dc",
   "metadata": {},
   "outputs": [
    {
     "data": {
      "text/html": [
       "<div>\n",
       "<style scoped>\n",
       "    .dataframe tbody tr th:only-of-type {\n",
       "        vertical-align: middle;\n",
       "    }\n",
       "\n",
       "    .dataframe tbody tr th {\n",
       "        vertical-align: top;\n",
       "    }\n",
       "\n",
       "    .dataframe thead th {\n",
       "        text-align: right;\n",
       "    }\n",
       "</style>\n",
       "<table border=\"1\" class=\"dataframe\">\n",
       "  <thead>\n",
       "    <tr style=\"text-align: right;\">\n",
       "      <th></th>\n",
       "      <th>User ID</th>\n",
       "      <th>Gender</th>\n",
       "      <th>Age</th>\n",
       "      <th>EstimatedSalary</th>\n",
       "      <th>Purchased</th>\n",
       "    </tr>\n",
       "  </thead>\n",
       "  <tbody>\n",
       "    <tr>\n",
       "      <th>0</th>\n",
       "      <td>15624510</td>\n",
       "      <td>Male</td>\n",
       "      <td>19</td>\n",
       "      <td>19000</td>\n",
       "      <td>0</td>\n",
       "    </tr>\n",
       "    <tr>\n",
       "      <th>1</th>\n",
       "      <td>15810944</td>\n",
       "      <td>Male</td>\n",
       "      <td>35</td>\n",
       "      <td>20000</td>\n",
       "      <td>0</td>\n",
       "    </tr>\n",
       "    <tr>\n",
       "      <th>2</th>\n",
       "      <td>15668575</td>\n",
       "      <td>Female</td>\n",
       "      <td>26</td>\n",
       "      <td>43000</td>\n",
       "      <td>0</td>\n",
       "    </tr>\n",
       "    <tr>\n",
       "      <th>3</th>\n",
       "      <td>15603246</td>\n",
       "      <td>Female</td>\n",
       "      <td>27</td>\n",
       "      <td>57000</td>\n",
       "      <td>0</td>\n",
       "    </tr>\n",
       "  </tbody>\n",
       "</table>\n",
       "</div>"
      ],
      "text/plain": [
       "    User ID  Gender  Age  EstimatedSalary  Purchased\n",
       "0  15624510    Male   19            19000          0\n",
       "1  15810944    Male   35            20000          0\n",
       "2  15668575  Female   26            43000          0\n",
       "3  15603246  Female   27            57000          0"
      ]
     },
     "execution_count": 6,
     "metadata": {},
     "output_type": "execute_result"
    }
   ],
   "source": [
    "# First `n` entries (rows) of the dataframe\n",
    "df.head(4)"
   ]
  },
  {
   "cell_type": "code",
   "execution_count": 7,
   "id": "a8d3a84e",
   "metadata": {},
   "outputs": [
    {
     "data": {
      "text/html": [
       "<div>\n",
       "<style scoped>\n",
       "    .dataframe tbody tr th:only-of-type {\n",
       "        vertical-align: middle;\n",
       "    }\n",
       "\n",
       "    .dataframe tbody tr th {\n",
       "        vertical-align: top;\n",
       "    }\n",
       "\n",
       "    .dataframe thead th {\n",
       "        text-align: right;\n",
       "    }\n",
       "</style>\n",
       "<table border=\"1\" class=\"dataframe\">\n",
       "  <thead>\n",
       "    <tr style=\"text-align: right;\">\n",
       "      <th></th>\n",
       "      <th>User ID</th>\n",
       "      <th>Gender</th>\n",
       "      <th>Age</th>\n",
       "      <th>EstimatedSalary</th>\n",
       "      <th>Purchased</th>\n",
       "    </tr>\n",
       "  </thead>\n",
       "  <tbody>\n",
       "    <tr>\n",
       "      <th>397</th>\n",
       "      <td>15654296</td>\n",
       "      <td>Female</td>\n",
       "      <td>50</td>\n",
       "      <td>20000</td>\n",
       "      <td>1</td>\n",
       "    </tr>\n",
       "    <tr>\n",
       "      <th>398</th>\n",
       "      <td>15755018</td>\n",
       "      <td>Male</td>\n",
       "      <td>36</td>\n",
       "      <td>33000</td>\n",
       "      <td>0</td>\n",
       "    </tr>\n",
       "    <tr>\n",
       "      <th>399</th>\n",
       "      <td>15594041</td>\n",
       "      <td>Female</td>\n",
       "      <td>49</td>\n",
       "      <td>36000</td>\n",
       "      <td>1</td>\n",
       "    </tr>\n",
       "  </tbody>\n",
       "</table>\n",
       "</div>"
      ],
      "text/plain": [
       "      User ID  Gender  Age  EstimatedSalary  Purchased\n",
       "397  15654296  Female   50            20000          1\n",
       "398  15755018    Male   36            33000          0\n",
       "399  15594041  Female   49            36000          1"
      ]
     },
     "execution_count": 7,
     "metadata": {},
     "output_type": "execute_result"
    }
   ],
   "source": [
    "# Last `n` entries (rows) of the dataframe\n",
    "df.tail(3)"
   ]
  },
  {
   "cell_type": "code",
   "execution_count": 8,
   "id": "015f879f-ce72-402f-8dc5-56e634f57a20",
   "metadata": {},
   "outputs": [
    {
     "data": {
      "text/plain": [
       "pandas.core.frame.DataFrame"
      ]
     },
     "execution_count": 8,
     "metadata": {},
     "output_type": "execute_result"
    }
   ],
   "source": [
    "type(df)"
   ]
  },
  {
   "cell_type": "markdown",
   "id": "b22a626c",
   "metadata": {},
   "source": [
    "### 4 Subsetting"
   ]
  },
  {
   "cell_type": "code",
   "execution_count": 9,
   "id": "2b837f2f",
   "metadata": {},
   "outputs": [
    {
     "data": {
      "text/plain": [
       "0      19\n",
       "1      35\n",
       "2      26\n",
       "3      27\n",
       "4      19\n",
       "       ..\n",
       "395    46\n",
       "396    51\n",
       "397    50\n",
       "398    36\n",
       "399    49\n",
       "Name: Age, Length: 400, dtype: int64"
      ]
     },
     "execution_count": 9,
     "metadata": {},
     "output_type": "execute_result"
    }
   ],
   "source": [
    "# Select a column by name\n",
    "df['Age']"
   ]
  },
  {
   "cell_type": "code",
   "execution_count": null,
   "id": "e43317ba-5caa-4daf-ba6c-233d110a3a55",
   "metadata": {},
   "outputs": [],
   "source": [
    "# Select a column by index (rarely used)\n",
    "df.iloc[:,2]"
   ]
  },
  {
   "cell_type": "code",
   "execution_count": null,
   "id": "82acc066",
   "metadata": {},
   "outputs": [],
   "source": [
    "# Select multiple columns\n",
    "df[ ['Gender', 'EstimatedSalary'] ]"
   ]
  },
  {
   "cell_type": "code",
   "execution_count": null,
   "id": "7cfdba49",
   "metadata": {},
   "outputs": [],
   "source": [
    "# Select a row by index\n",
    "df.iloc[1,:]       #  (can leave out \",:\" here)"
   ]
  },
  {
   "cell_type": "code",
   "execution_count": null,
   "id": "2a66e380",
   "metadata": {},
   "outputs": [],
   "source": [
    "# Select multiple rows with colon\n",
    "df.iloc[10:15,:]         # <-- upper index is \"one more\" (can leave out \",:\" here)"
   ]
  },
  {
   "cell_type": "code",
   "execution_count": null,
   "id": "8c50920f-9023-4924-8416-458e4382f533",
   "metadata": {},
   "outputs": [],
   "source": [
    "# Select multiple rows\n",
    "df.iloc[[1, 67, 96],:]"
   ]
  },
  {
   "cell_type": "code",
   "execution_count": null,
   "id": "6f92b159-60ba-4cb2-86e8-807d9ece7d2c",
   "metadata": {},
   "outputs": [],
   "source": [
    "# Select individual element (rarely used)\n",
    "# Salary of row 5\n",
    "df.iloc[5,3]"
   ]
  },
  {
   "cell_type": "markdown",
   "id": "1de9139b-e048-4964-a71e-cd908d94496e",
   "metadata": {},
   "source": [
    "### 5 Functions and summaries\n",
    "* No need for complicated list comprehensions here\n",
    "* Use `numpy` to apply function to entire vector\n",
    "* Use `df.xxx()` methods to summarize data"
   ]
  },
  {
   "cell_type": "code",
   "execution_count": 12,
   "id": "c13175f8-26e3-49fb-9e02-fcef658eb922",
   "metadata": {},
   "outputs": [
    {
     "data": {
      "text/plain": [
       "0       9.852194\n",
       "1       9.903488\n",
       "2      10.668955\n",
       "3      10.950807\n",
       "4      11.238489\n",
       "         ...    \n",
       "395    10.621327\n",
       "396    10.043249\n",
       "397     9.903488\n",
       "398    10.404263\n",
       "399    10.491274\n",
       "Name: EstimatedSalary, Length: 400, dtype: float64"
      ]
     },
     "execution_count": 12,
     "metadata": {},
     "output_type": "execute_result"
    }
   ],
   "source": [
    "import numpy\n",
    "numpy.log(df['EstimatedSalary'])"
   ]
  },
  {
   "cell_type": "code",
   "execution_count": 13,
   "id": "9fe88c87",
   "metadata": {},
   "outputs": [
    {
     "data": {
      "text/plain": [
       "69742.5"
      ]
     },
     "execution_count": 13,
     "metadata": {},
     "output_type": "execute_result"
    }
   ],
   "source": [
    "# Average salary\n",
    "df['EstimatedSalary'].mean()"
   ]
  },
  {
   "cell_type": "code",
   "execution_count": 14,
   "id": "87b87ca5-9575-4d0e-8382-f7152d39aa85",
   "metadata": {},
   "outputs": [
    {
     "data": {
      "text/plain": [
       "array(['Male', 'Female'], dtype=object)"
      ]
     },
     "execution_count": 14,
     "metadata": {},
     "output_type": "execute_result"
    }
   ],
   "source": [
    "# Unique values in a column. \n",
    "# Useful when analysing categories such as products, stocks, countries, etc\n",
    "df['Gender'].unique()"
   ]
  },
  {
   "cell_type": "code",
   "execution_count": 15,
   "id": "b8f13b05",
   "metadata": {},
   "outputs": [
    {
     "data": {
      "text/plain": [
       "0       True\n",
       "1       True\n",
       "2       True\n",
       "3       True\n",
       "4       True\n",
       "       ...  \n",
       "395    False\n",
       "396    False\n",
       "397    False\n",
       "398     True\n",
       "399    False\n",
       "Name: Age, Length: 400, dtype: bool"
      ]
     },
     "execution_count": 15,
     "metadata": {},
     "output_type": "execute_result"
    }
   ],
   "source": [
    "df['Age'] <= 40"
   ]
  },
  {
   "cell_type": "code",
   "execution_count": 16,
   "id": "009a71dc",
   "metadata": {},
   "outputs": [
    {
     "data": {
      "text/plain": [
       "253"
      ]
     },
     "execution_count": 16,
     "metadata": {},
     "output_type": "execute_result"
    }
   ],
   "source": [
    "# Count number of young customers\n",
    "sum(df['Age'] <= 40)"
   ]
  },
  {
   "cell_type": "code",
   "execution_count": 17,
   "id": "6bf09334-b0ca-4d11-83cb-69f26c0f9fda",
   "metadata": {},
   "outputs": [
    {
     "data": {
      "text/plain": [
       "0.6325"
      ]
     },
     "execution_count": 17,
     "metadata": {},
     "output_type": "execute_result"
    }
   ],
   "source": [
    "# Fraction of young customers\n",
    "(df['Age'] <= 40).mean()"
   ]
  },
  {
   "cell_type": "markdown",
   "id": "d5bc6e34",
   "metadata": {},
   "source": [
    "### *5.1 Multiple and complementary conditons .. not that easy\n",
    "\n",
    "- Pandas is an abstraction that simplifies data operations, but...\n",
    "    - Has different Object Types: Series and DataFrame\n",
    "    - Requires specific syntax (`~`, `&`,  `|`) instead of  `not`, `and`, `or`."
   ]
  },
  {
   "cell_type": "code",
   "execution_count": 18,
   "id": "f49efe59",
   "metadata": {},
   "outputs": [
    {
     "name": "stdout",
     "output_type": "stream",
     "text": [
      "<class 'pandas.core.frame.DataFrame'>\n",
      "<class 'pandas.core.series.Series'>\n",
      "<class 'pandas.core.frame.DataFrame'>\n"
     ]
    }
   ],
   "source": [
    "# A \"DataFrame\" object\n",
    "print(type(df))\n",
    "\n",
    "# Single column is seen as \"Series\" object\n",
    "print(type(df['Age']))\n",
    "\n",
    "# Multiple columns are seen as \"DataFrame\" object\n",
    "print(type(df[ ['Age', 'Purchased'] ]))"
   ]
  },
  {
   "cell_type": "code",
   "execution_count": 19,
   "id": "2d06bf64-b30e-4d47-acb3-921b0528ddba",
   "metadata": {},
   "outputs": [
    {
     "data": {
      "text/plain": [
       "0      False\n",
       "1      False\n",
       "2      False\n",
       "3      False\n",
       "4      False\n",
       "       ...  \n",
       "395     True\n",
       "396     True\n",
       "397     True\n",
       "398    False\n",
       "399     True\n",
       "Name: Age, Length: 400, dtype: bool"
      ]
     },
     "execution_count": 19,
     "metadata": {},
     "output_type": "execute_result"
    }
   ],
   "source": [
    "# Complementary conditon, \"~\" for \"not\"\n",
    "~(df['Age'] <=40)"
   ]
  },
  {
   "cell_type": "code",
   "execution_count": 20,
   "id": "415a7c0a",
   "metadata": {},
   "outputs": [
    {
     "data": {
      "text/plain": [
       "0      False\n",
       "1      False\n",
       "2      False\n",
       "3       True\n",
       "4       True\n",
       "       ...  \n",
       "395    False\n",
       "396    False\n",
       "397    False\n",
       "398    False\n",
       "399    False\n",
       "Length: 400, dtype: bool"
      ]
     },
     "execution_count": 20,
     "metadata": {},
     "output_type": "execute_result"
    }
   ],
   "source": [
    "# Dual conditions, \"&\" for \"and\"\n",
    "# Users with age below 40 and salary above 50'000\n",
    "(df['Age']<=40) & (df['EstimatedSalary']>=50000)"
   ]
  },
  {
   "cell_type": "code",
   "execution_count": 21,
   "id": "784a63c0",
   "metadata": {},
   "outputs": [
    {
     "data": {
      "text/plain": [
       "0       True\n",
       "1      False\n",
       "2       True\n",
       "3       True\n",
       "4       True\n",
       "       ...  \n",
       "395     True\n",
       "396     True\n",
       "397     True\n",
       "398    False\n",
       "399     True\n",
       "Name: Age, Length: 400, dtype: bool"
      ]
     },
     "execution_count": 21,
     "metadata": {},
     "output_type": "execute_result"
    }
   ],
   "source": [
    "# \"|\" for \"or\"\n",
    "# Users with age either under 30 or above 45\n",
    "(df['Age']<=30) | (df['Age']>=45)"
   ]
  },
  {
   "cell_type": "code",
   "execution_count": 22,
   "id": "3d7fbfa4-b55b-4e1c-ba86-15ca21c28f18",
   "metadata": {},
   "outputs": [
    {
     "data": {
      "text/plain": [
       "0.3675"
      ]
     },
     "execution_count": 22,
     "metadata": {},
     "output_type": "execute_result"
    }
   ],
   "source": [
    "# Fraction of people above 40\n",
    "( ~(df['Age']<=40) ).mean()"
   ]
  },
  {
   "cell_type": "code",
   "execution_count": 23,
   "id": "86bcec51",
   "metadata": {},
   "outputs": [
    {
     "data": {
      "text/plain": [
       "1.0"
      ]
     },
     "execution_count": 23,
     "metadata": {},
     "output_type": "execute_result"
    }
   ],
   "source": [
    "# Tertia non datur\n",
    "( ~(df['Age']<=40) ).mean() + (df['Age']<=40).mean()"
   ]
  },
  {
   "cell_type": "markdown",
   "id": "2cf5e998",
   "metadata": {},
   "source": [
    "### 6 Subsetting by condition\n",
    "\n",
    "* Daily bread of data scientist. Analyze ...\n",
    "    * \"all older participants\"\n",
    "    * \"all older male participants\"\n",
    "    * \"all older male participants with high income\"\n",
    "* **Syntax:** `df[<condition> ]`\n",
    "* **Syntax:** `df['<column>'][<condition> ]`"
   ]
  },
  {
   "cell_type": "code",
   "execution_count": null,
   "id": "4c73dc0b-95d5-41cf-90ca-43edfd8d35b7",
   "metadata": {},
   "outputs": [],
   "source": [
    "# Recap\n",
    "df['Age']>=30"
   ]
  },
  {
   "cell_type": "code",
   "execution_count": null,
   "id": "d66edc16-958d-4b60-b424-bff241286b3a",
   "metadata": {},
   "outputs": [],
   "source": [
    "# Select rows for which <condtion> is True\n",
    "df[ df['Age']>=30 ]"
   ]
  },
  {
   "cell_type": "code",
   "execution_count": null,
   "id": "8547f18c",
   "metadata": {},
   "outputs": [],
   "source": [
    "# Subset just one column\n",
    "df['EstimatedSalary'][ df['Age']>=30 ]"
   ]
  },
  {
   "cell_type": "markdown",
   "id": "2f2b5861-115e-4a73-b32e-581b4293ba54",
   "metadata": {},
   "source": [
    "**Notice:** Length is now shorter"
   ]
  },
  {
   "cell_type": "code",
   "execution_count": null,
   "id": "6f0f999f",
   "metadata": {},
   "outputs": [],
   "source": [
    "# Statistics of a subset\n",
    "# Average salary of people aged 30 or more.\n",
    "df['EstimatedSalary'][ df['Age']>=30 ].mean()"
   ]
  },
  {
   "cell_type": "markdown",
   "id": "f62b0c32-a2c6-4343-9080-111b126c6ca1",
   "metadata": {},
   "source": [
    "#### 6.1 Multiple conditions\n",
    "* Require extra `()` around condition\n",
    "* Still `&` and `|` operators\n",
    "* **Syntax** `df['<column>'][ (<condition1>) & (<condition2>) ]`"
   ]
  },
  {
   "cell_type": "code",
   "execution_count": null,
   "id": "f195c76d-7e3f-4b19-ad9e-de731aa666ba",
   "metadata": {},
   "outputs": [],
   "source": [
    "df['EstimatedSalary'][ (df['Age']>=30) & (df['Gender']==\"Male\") ].mean()"
   ]
  },
  {
   "cell_type": "code",
   "execution_count": null,
   "id": "a3a8f727-e0b5-483b-a81f-4eaec9f2d4ba",
   "metadata": {},
   "outputs": [],
   "source": [
    "df['EstimatedSalary'][ (df['Age']>=30) & (df['Gender']==\"Male\") & \n",
    "                       (df['EstimatedSalary']>40000) ].mean()"
   ]
  },
  {
   "cell_type": "markdown",
   "id": "f7050c7b-0c38-494d-9c4d-345f6f9dc98d",
   "metadata": {},
   "source": [
    "**Exercise:** Answer these questions ...\n",
    "* Is the average salary for male or female participants higher?\n",
    "* What is the average salary"
   ]
  },
  {
   "cell_type": "code",
   "execution_count": null,
   "id": "b33b0c32-84cf-453c-a95c-c1f3c89f448c",
   "metadata": {},
   "outputs": [],
   "source": [
    "df['EstimatedSalary'][ df['Gender']==\"Male\" ].mean()"
   ]
  },
  {
   "cell_type": "code",
   "execution_count": null,
   "id": "53b237f3-7bb9-4b26-9a5b-970becb5977c",
   "metadata": {},
   "outputs": [],
   "source": [
    "df['EstimatedSalary'][ ~(df['Gender']==\"Male\") ].mean()"
   ]
  },
  {
   "cell_type": "code",
   "execution_count": null,
   "id": "f412f591-579f-4c7f-8123-96d6ad81b6eb",
   "metadata": {},
   "outputs": [],
   "source": [
    "df['EstimatedSalary'].mean()"
   ]
  },
  {
   "cell_type": "markdown",
   "id": "3e159077",
   "metadata": {},
   "source": [
    "## 7 Modify dataframe structure\n",
    "- Add new column: simply assign values\n",
    "- Delete a column: `df.drop('<column>')`"
   ]
  },
  {
   "cell_type": "code",
   "execution_count": null,
   "id": "8b8b0f9f",
   "metadata": {},
   "outputs": [],
   "source": [
    "retirement_age = 60\n",
    "df['YearsToRetirement'] = retirement_age - df['Age']\n",
    "df"
   ]
  },
  {
   "cell_type": "code",
   "execution_count": null,
   "id": "d28cfc3f-8bb3-45d9-9809-d9917653579c",
   "metadata": {},
   "outputs": [],
   "source": [
    "# Remove column\n",
    "df.drop(columns='YearsToRetirement', inplace=True)"
   ]
  },
  {
   "cell_type": "code",
   "execution_count": null,
   "id": "0c8c2339-a815-43d5-a776-84c23a71e1c0",
   "metadata": {},
   "outputs": [],
   "source": [
    "df"
   ]
  },
  {
   "cell_type": "markdown",
   "id": "b805a12a-0448-4322-b2b9-0663951e661e",
   "metadata": {},
   "source": [
    "**Exercise:** Add a column named `SalaryUSD` that convertes the salary from CHF to USD. The exchange rate is 1.15 USD/CHF."
   ]
  },
  {
   "cell_type": "code",
   "execution_count": null,
   "id": "b16173d6-5dd4-42a1-a500-7df00c8a7ee4",
   "metadata": {},
   "outputs": [],
   "source": [
    "# code goes here\n",
    "df['SalaryUSD'] = df['EstimatedSalary']*1.15"
   ]
  },
  {
   "cell_type": "code",
   "execution_count": null,
   "id": "7c3374e6-9832-41bc-9317-54a56bd3b5fd",
   "metadata": {},
   "outputs": [],
   "source": [
    "df"
   ]
  }
 ],
 "metadata": {
  "kernelspec": {
   "display_name": "Python 3 (ipykernel)",
   "language": "python",
   "name": "python3"
  },
  "language_info": {
   "codemirror_mode": {
    "name": "ipython",
    "version": 3
   },
   "file_extension": ".py",
   "mimetype": "text/x-python",
   "name": "python",
   "nbconvert_exporter": "python",
   "pygments_lexer": "ipython3",
   "version": "3.11.5"
  }
 },
 "nbformat": 4,
 "nbformat_minor": 5
}

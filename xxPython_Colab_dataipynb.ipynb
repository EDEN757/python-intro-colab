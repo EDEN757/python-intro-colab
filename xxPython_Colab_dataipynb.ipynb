{
 "cells": [
  {
   "cell_type": "markdown",
   "id": "22f282b7",
   "metadata": {},
   "source": [
    "<a target=\"_blank\" href=\"https://colab.research.google.com/github/peterhgruber/python-intro-colab/blob/main/xxPython_Colab_dataipynb.ipynb\">\n",
    "  <img src=\"https://colab.research.google.com/assets/colab-badge.svg\" alt=\"Open In Colab\"/>\n",
    "</a>"
   ]
  },
  {
   "cell_type": "markdown",
   "id": "1f0d16e0",
   "metadata": {},
   "source": [
    "# Introduction to Python\n",
    "### Loading and saving files with Google Colab\n",
    "Peter Gruber (peter.gruber@usi.ch), 2024-04-01\n",
    "\n",
    "* Inspired by https://saturncloud.io/blog/how-to-save-files-from-google-colab-to-google-drive-a-stepbystep-guide/"
   ]
  },
  {
   "cell_type": "markdown",
   "id": "19637220",
   "metadata": {},
   "source": [
    "### Step 1: connect to google drive\n",
    "* Run the cell below\n",
    "* A dialog will pop up asking if you want to connect this notebook to your google drive\n",
    "  1. Select `Connect to Google Drive`\n",
    "  2. Click on your Google account\n",
    "  3. Accept"
   ]
  },
  {
   "cell_type": "code",
   "execution_count": null,
   "id": "09169106",
   "metadata": {},
   "outputs": [],
   "source": [
    "from google.colab import drive\n",
    "drive.mount('/content/drive')"
   ]
  },
  {
   "cell_type": "markdown",
   "id": "03c0637c",
   "metadata": {},
   "source": [
    "### Step 2: Create a directory\n",
    "* Using the `os` module"
   ]
  },
  {
   "cell_type": "code",
   "execution_count": null,
   "id": "bdb6fefb",
   "metadata": {},
   "outputs": [],
   "source": [
    "import os\n",
    "os.mkdir(\"/content/drive/My Drive/ColabData\")"
   ]
  },
  {
   "cell_type": "markdown",
   "id": "5ca1cc0d",
   "metadata": {},
   "source": [
    "### Step 3: Write to file\n",
    "* For this example, we create a Pandas dataframe and write it to a CSV file"
   ]
  },
  {
   "cell_type": "code",
   "execution_count": null,
   "id": "d67d04d6",
   "metadata": {},
   "outputs": [],
   "source": [
    "import pandas as pd\n",
    "\n",
    "# Sample data for the DataFrame\n",
    "data = {\n",
    "    'Country': ['India', 'China', 'USA', 'Indonesia'],\n",
    "    'Population': [1428, 1425, 340, 277]\n",
    "}\n",
    "\n",
    "# Create DataFrame\n",
    "df = pd.DataFrame(data)\n",
    "\n",
    "# Write DataFrame to CSV\n",
    "df.to_csv('/content/drive/MyDrive/ColabData/sample_data.csv', index=False)"
   ]
  },
  {
   "cell_type": "markdown",
   "id": "be2bd8c0",
   "metadata": {},
   "source": [
    "### Step 4: Check if directory and file are present"
   ]
  },
  {
   "cell_type": "code",
   "execution_count": null,
   "id": "9b233d6d",
   "metadata": {},
   "outputs": [],
   "source": [
    "os.path.isdir(\"/content/drive/My Drive/ColabData\")"
   ]
  },
  {
   "cell_type": "code",
   "execution_count": null,
   "id": "ab09c42b",
   "metadata": {},
   "outputs": [],
   "source": [
    "os.path.isfile(\"/content/drive/My Drive/ColabData\")"
   ]
  },
  {
   "cell_type": "markdown",
   "id": "c15dc41b",
   "metadata": {},
   "source": [
    "### Step 5: Load file"
   ]
  },
  {
   "cell_type": "code",
   "execution_count": null,
   "id": "6f6296a4",
   "metadata": {},
   "outputs": [],
   "source": [
    "# Load data from CSV file into DataFrame\n",
    "df = pd.read_csv('/content/drive/My Drive/ColabData/sample_data.csv')\n",
    "\n",
    "# Display the loaded DataFrame\n",
    "print(df)"
   ]
  },
  {
   "cell_type": "markdown",
   "id": "893c36f5",
   "metadata": {},
   "source": [
    "### *Step 6: More information about the file"
   ]
  },
  {
   "cell_type": "code",
   "execution_count": null,
   "id": "1a7bf1f3",
   "metadata": {},
   "outputs": [],
   "source": [
    "path = '/content/drive/MyDrive/ColabData/sample_data.csv'"
   ]
  },
  {
   "cell_type": "code",
   "execution_count": null,
   "id": "4d669a0d",
   "metadata": {},
   "outputs": [],
   "source": [
    "# File size in bytes\n",
    "os.path.getsize(path)"
   ]
  },
  {
   "cell_type": "code",
   "execution_count": null,
   "id": "e508a95d",
   "metadata": {},
   "outputs": [],
   "source": [
    "# Last access time\n",
    "os.path.getatime(path)"
   ]
  },
  {
   "cell_type": "code",
   "execution_count": null,
   "id": "1e9d1de4",
   "metadata": {},
   "outputs": [],
   "source": [
    "# Last modification time\n",
    "os.path.getmtime(path)"
   ]
  },
  {
   "cell_type": "code",
   "execution_count": null,
   "id": "3048e766",
   "metadata": {},
   "outputs": [],
   "source": [
    "# Last  change time\n",
    "os.path.getctime(path)"
   ]
  }
 ],
 "metadata": {
  "kernelspec": {
   "display_name": "Python 3 (ipykernel)",
   "language": "python",
   "name": "python3"
  },
  "language_info": {
   "codemirror_mode": {
    "name": "ipython",
    "version": 3
   },
   "file_extension": ".py",
   "mimetype": "text/x-python",
   "name": "python",
   "nbconvert_exporter": "python",
   "pygments_lexer": "ipython3",
   "version": "3.11.5"
  }
 },
 "nbformat": 4,
 "nbformat_minor": 5
}
